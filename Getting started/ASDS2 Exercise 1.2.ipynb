{
 "cells": [
  {
   "cell_type": "code",
   "execution_count": 27,
   "metadata": {},
   "outputs": [
    {
     "name": "stderr",
     "output_type": "stream",
     "text": [
      "[nltk_data] Downloading package omw-1.4 to\n",
      "[nltk_data]     C:\\Users\\asger\\AppData\\Roaming\\nltk_data...\n",
      "[nltk_data] Downloading package stopwords to\n",
      "[nltk_data]     C:\\Users\\asger\\AppData\\Roaming\\nltk_data...\n",
      "[nltk_data]   Package stopwords is already up-to-date!\n",
      "[nltk_data] Downloading package wordnet to\n",
      "[nltk_data]     C:\\Users\\asger\\AppData\\Roaming\\nltk_data...\n",
      "[nltk_data]   Package wordnet is already up-to-date!\n",
      "[nltk_data] Downloading package punkt to\n",
      "[nltk_data]     C:\\Users\\asger\\AppData\\Roaming\\nltk_data...\n",
      "[nltk_data]   Package punkt is already up-to-date!\n",
      "[nltk_data] Downloading package averaged_perceptron_tagger to\n",
      "[nltk_data]     C:\\Users\\asger\\AppData\\Roaming\\nltk_data...\n",
      "[nltk_data]   Package averaged_perceptron_tagger is already up-to-\n",
      "[nltk_data]       date!\n"
     ]
    }
   ],
   "source": [
    "# Import relevant packages \n",
    "import pandas as pd\n",
    "from sklearn.linear_model import LinearRegression\n",
    "from sklearn.feature_extraction.text import CountVectorizer\n",
    "import re\n",
    "import string\n",
    "import matplotlib.pyplot as plt\n",
    "import datetime as dt\n",
    "import nltk \n",
    "import numpy as np\n",
    "\n",
    "nltk.download('omw-1.4')\n",
    "nltk.download('stopwords')\n",
    "nltk.download('wordnet')\n",
    "nltk.download('punkt')\n",
    "nltk.download('averaged_perceptron_tagger')\n",
    "\n",
    "from nltk.corpus import stopwords\n",
    "from nltk.stem import PorterStemmer\n",
    "from nltk.stem import LancasterStemmer # Porter is used below. This is an alternative, harsher stemmer. \n",
    "from nltk.stem import WordNetLemmatizer\n",
    "from nltk import word_tokenize, pos_tag\n",
    "from nltk.corpus import wordnet\n",
    "import string\n",
    "\n",
    "from collections import defaultdict\n"
   ]
  },
  {
   "attachments": {},
   "cell_type": "markdown",
   "metadata": {},
   "source": [
    "# Advanced Social Data Science 2 (ASDS2) Exercises\n",
    "\n",
    "## Preprocessing\n",
    "\n",
    "### 1: Importing data without preprocessing\n",
    "\n",
    "1. Download the data set available here, which contains the nearly 6,000 times Donald Trump insulted someone on Twitter: https://www.kaggle.com/ayushggarg/all-trumps-twitter-insults-20152021 \n",
    "2. Load the csv as a data frame using pandas.\n",
    "3. The variable ‘target’ has an indicator for the target of the insult. The data reveals that Trump’s most frequent insult target is ‘the media’ (‘the-media’ in the data). Create a binary indicator for whether Trump targets the media. Fit a linear regression with this binary indicator as the dependent variable and the date of the tweet as the independent variable. Does Trump become more or less likely to insult the media over time? Why might this be? \n",
    "4. Using the CountVectorizer from sklearn, convert the tweets to a document-feature matrix. What are the dimensions of the matrix?\n"
   ]
  },
  {
   "cell_type": "code",
   "execution_count": 3,
   "metadata": {},
   "outputs": [],
   "source": [
    "# Loader dataset\n",
    "MTP_df = pd.read_csv(\"../dataset/trump_insult_tweets_2014_to_2021.csv\")\n",
    "MTP_df[\"Media\"] = np.where(MTP_df['target']=='the-media', True, False)"
   ]
  },
  {
   "cell_type": "code",
   "execution_count": 4,
   "metadata": {},
   "outputs": [
    {
     "name": "stdout",
     "output_type": "stream",
     "text": [
      "4.30988115910011e-05\n"
     ]
    }
   ],
   "source": [
    "## Laver regression\n",
    "#Date is str type, which we cannot use. Correcting date to datetime type\n",
    "MTP_df['date'] = pd.to_datetime(MTP_df['date'], format = '%Y-%m-%d', errors = 'ignore')\n",
    "\n",
    "#make dates regression appropriate:\n",
    "MTP_df['date_ordinal'] = MTP_df['date'].map(dt.datetime.toordinal) #makes each Y-M-D a unique number (starting from some random number)\n",
    "MTP_df['date_from_0'] =  MTP_df['date_ordinal'] - min(MTP_df['date_ordinal']) #Makes each data a number starting from 0 to the number of days since the first tweet\n",
    "\n",
    "x = MTP_df[\"date_from_0\"].values.reshape(-1,1)\n",
    "y = MTP_df['Media'].values\n",
    "\n",
    "#Creating and fitting a linear regression model\n",
    "model = LinearRegression()\n",
    "model.fit(x,y)\n",
    "\n",
    "#Viewing the computed linear regression coefficient to determine whether Trump becomes more or less likely to insult the media over time\n",
    "print(model.coef_[0])"
   ]
  },
  {
   "cell_type": "code",
   "execution_count": 5,
   "metadata": {},
   "outputs": [
    {
     "data": {
      "image/png": "[encoded data removed]",
      "text/plain": [
       "<Figure size 640x480 with 1 Axes>"
      ]
     },
     "metadata": {},
     "output_type": "display_data"
    }
   ],
   "source": [
    "# Inspireret af Esben\n",
    "import matplotlib.pyplot as plt\n",
    "\n",
    "# Plot the scatter plot\n",
    "plt.scatter(x, y, color='b')\n",
    "\n",
    "# Plot the regression line\n",
    "plt.plot(x, model.predict(x), color='r')\n",
    "\n",
    "# Add title, x-label, and y-label\n",
    "plt.title('Regression of Trump insulting Media over time')\n",
    "plt.xlabel('Days since the first tweet')\n",
    "plt.ylabel('Number of media insults')\n",
    "\n",
    "# Show the plot\n",
    "plt.show()"
   ]
  },
  {
   "cell_type": "code",
   "execution_count": 6,
   "metadata": {},
   "outputs": [
    {
     "data": {
      "text/plain": [
       "(10360, 12902)"
      ]
     },
     "execution_count": 6,
     "metadata": {},
     "output_type": "execute_result"
    }
   ],
   "source": [
    "# Count vectorizer from sklearn\n",
    "#Creating and fitting a vectorizer to convert the tweets to a document-feature matrix\n",
    "vectorizer = CountVectorizer(lowercase=False, ngram_range=(1,1), analyzer = \"word\")\n",
    "# ngram_range = hvor mange ord skal kunne være i ens bag of words. \n",
    "\n",
    "matrix = vectorizer.fit_transform(MTP_df['tweet'])\n",
    "\n",
    "#Viewing the matrix dimensions\n",
    "matrix.shape\n"
   ]
  },
  {
   "cell_type": "markdown",
   "metadata": {},
   "source": [
    "### 2: Preprocessing steps\n",
    "\n",
    "1. Remove all tagged users, i.e. words starting with the ‘@’ character.\n",
    "2. Lowercase all tweet text.\n",
    "3. Remove numbers.\n",
    "4. Remove punctuation. \n",
    "5. Remove extra whitespaces.\n",
    "6. Remove default stopwords.\n",
    "7. Stem words.\n",
    "8. Lemmatize words. (Hint: lemmatization requires part-of-speech tags)\n",
    "\n",
    "The NLTK library has a stemmer and a lemmatizer, and other helpful lexical resources. \n"
   ]
  },
  {
   "cell_type": "code",
   "execution_count": 28,
   "metadata": {},
   "outputs": [],
   "source": [
    "# Fixer tweets\n",
    "## 1 fjerner @\n",
    "regex = r'@\\w+\\s?'\n",
    "MTP_df[\"clean_tweets\"] = MTP_df[\"tweet\"].apply(lambda x: re.sub(regex, '', x))\n",
    "\n",
    "## 2 Gør alt lowercase\n",
    "MTP_df[\"clean_tweets\"] = [x.lower() for x in MTP_df[\"clean_tweets\"]]\n",
    "\n",
    "## 3 (shit shit en nested list comprehension) fjerner tal\n",
    "MTP_df[\"clean_tweets\"] = [''.join([x for x in s if not x.isdigit()])for s in MTP_df[\"clean_tweets\"]]\n",
    "\n",
    "## 4 fjerner punctuation\n",
    "MTP_df[\"clean_tweets\"] = [x.translate(str.maketrans('','', string.punctuation)) for x in MTP_df[\"clean_tweets\"]]\n",
    "\n",
    "## 5 Remove extra whitespaces\n",
    "MTP_df[\"clean_tweets\"] = [x.replace(r'\\s+', \" \") for x in MTP_df[\"clean_tweets\"]]\n",
    "\n",
    "## 6.1 Remove defeault stopwords\n",
    "#stop_words = set(stopwords.words('english'))\n",
    "#MTP_df[\"clean_tweets\"] = filtered_text = [([t for t in tokens if not t in stopwords.words(\"english\")]) for tokens in MTP_df[\"clean_tweets\"]]\n",
    "\n",
    "## 6.2 anden metode\n",
    "stopword_match = r\"\\b(\" + r\"|\".join(stopwords.words('english')) + r\")\\b\"\n",
    "#Notice that the regular expression is a bit more complicated than the simple function above\n",
    "MTP_df['tweet_no_stopwords'] = MTP_df['clean_tweets'].str.replace(stopword_match, '', regex = True).str.replace(r'\\s+', ' ', regex = True).str.strip()\n",
    "\n",
    "## 7 Stemming words (Det der hvor vi fjerner det sidste) \n",
    "ps = PorterStemmer()\n",
    "MTP_df[\"tweet_stemming\"] = [\" \".join([ps.stem(x) for x in word_tokenize(sentence)])for sentence in MTP_df[\"tweet_no_stopwords\"]]\n",
    "\n",
    "### Nok den smartere og mere forståelige måde at gøre det på\n",
    "# def stemmer(sent, stemmer = PorterStemmer()):\n",
    "    \n",
    "#     sent = word_tokenize(sent)        #Tokenizing, as stemmer only takes tokenized sentences\n",
    "#     sent_stemmed = [stemmer.stem(word) for word in sent]       #Stemming each word in the sentence with list comprehension\n",
    "#     return ' '.join(sent_stemmed)    #Joining the stemmed words back into a sentence\n",
    "\n",
    "#MTP_df['tweet_stemming'] = MTP_df['tweet_no_stopwords'].apply(lambda x: stemmer(x))\n",
    "\n",
    "## 8 lemmatisation\n",
    "wnl = WordNetLemmatizer()\n",
    "MTP_df[\"tweet_lemma\"] = [\" \".join([wnl.lemmatize(x) for x in word_tokenize(sentence)])for sentence in MTP_df[\"tweet_no_stopwords\"]]\n"
   ]
  },
  {
   "cell_type": "markdown",
   "metadata": {},
   "source": [
    "### 3: Consequences of preprocessing\n",
    "\n",
    "Create a new document-feature matrix with the preprocessed tweets. How do the dimensions of this matrix compare with those of the matrix you created in 1.3?\n"
   ]
  },
  {
   "cell_type": "code",
   "execution_count": null,
   "metadata": {},
   "outputs": [],
   "source": []
  }
 ],
 "metadata": {
  "kernelspec": {
   "display_name": "Python 3",
   "language": "python",
   "name": "python3"
  },
  "language_info": {
   "codemirror_mode": {
    "name": "ipython",
    "version": 3
   },
   "file_extension": ".py",
   "mimetype": "text/x-python",
   "name": "python",
   "nbconvert_exporter": "python",
   "pygments_lexer": "ipython3",
   "version": "3.9.13"
  }
 },
 "nbformat": 4,
 "nbformat_minor": 4
}
