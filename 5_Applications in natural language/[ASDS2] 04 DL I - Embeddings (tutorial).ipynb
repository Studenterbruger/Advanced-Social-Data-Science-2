{
 "cells": [
  {
   "cell_type": "code",
   "execution_count": 12,
   "metadata": {
    "pycharm": {
     "name": "#%%\n"
    },
    "slideshow": {
     "slide_type": "skip"
    }
   },
   "outputs": [
    {
     "data": {
      "text/plain": [
       "{'width': '100%', 'height': '100%', 'scroll': True, 'enable_chalkboard': False}"
      ]
     },
     "execution_count": 12,
     "metadata": {},
     "output_type": "execute_result"
    }
   ],
   "source": [
    "# settings for tutorial presentation with RISE\n",
    "from notebook.services.config import ConfigManager\n",
    "cm = ConfigManager()\n",
    "cm.update('livereveal', {\n",
    "              'width': '100%',\n",
    "              'height': '100%',\n",
    "              'scroll': True,\n",
    "              'enable_chalkboard': False,\n",
    "})"
   ]
  },
  {
   "cell_type": "code",
   "execution_count": 13,
   "metadata": {
    "jupyter": {
     "outputs_hidden": false
    },
    "pycharm": {
     "name": "#%%\n"
    }
   },
   "outputs": [],
   "source": [
    "import gensim.downloader\n",
    "import gensim\n",
    "import pandas as pd\n",
    "import numpy as np\n",
    "import random\n",
    "import torch\n",
    "from nltk.tokenize import word_tokenize\n",
    "from sklearn.manifold import TSNE\n",
    "import datasets\n",
    "import matplotlib.pyplot as plt\n",
    "# enabling inline plots in Jupyter\n",
    "%matplotlib inline\n",
    "datasets.logging.set_verbosity_error()"
   ]
  },
  {
   "cell_type": "markdown",
   "metadata": {
    "pycharm": {
     "name": "#%% md\n"
    },
    "slideshow": {
     "slide_type": "slide"
    }
   },
   "source": [
    "# ASDS 2\n",
    "\n",
    "# Tutorial: Word embeddings\n",
    "\n",
    "Clara Vandeweerdt (based on work by Anna Rogers)"
   ]
  },
  {
   "cell_type": "markdown",
   "metadata": {
    "pycharm": {
     "name": "#%% md\n"
    },
    "slideshow": {
     "slide_type": "slide"
    }
   },
   "source": [
    "# 1. Playing with word embeddings\n",
    "\n",
    "[Gensim](https://radimrehurek.com/gensim/) is a popular library for working with static word embeddings."
   ]
  },
  {
   "cell_type": "code",
   "execution_count": 14,
   "metadata": {
    "jupyter": {
     "outputs_hidden": false
    },
    "pycharm": {
     "name": "#%%\n"
    },
    "slideshow": {
     "slide_type": "slide"
    }
   },
   "outputs": [
    {
     "name": "stdout",
     "output_type": "stream",
     "text": [
      "['fasttext-wiki-news-subwords-300', 'conceptnet-numberbatch-17-06-300', 'word2vec-ruscorpora-300', 'word2vec-google-news-300', 'glove-wiki-gigaword-50', 'glove-wiki-gigaword-100', 'glove-wiki-gigaword-200', 'glove-wiki-gigaword-300', 'glove-twitter-25', 'glove-twitter-50', 'glove-twitter-100', 'glove-twitter-200', '__testing_word2vec-matrix-synopsis']\n"
     ]
    }
   ],
   "source": [
    "# see which embeddings are available for download\n",
    "print(list(gensim.downloader.info()['models'].keys()))"
   ]
  },
  {
   "cell_type": "code",
   "execution_count": 15,
   "metadata": {
    "jupyter": {
     "outputs_hidden": false
    },
    "pycharm": {
     "name": "#%%\n"
    },
    "slideshow": {
     "slide_type": "slide"
    }
   },
   "outputs": [],
   "source": [
    "# download one pre-trained model\n",
    "glove_twitter_25 = gensim.downloader.load('glove-twitter-25')"
   ]
  },
  {
   "cell_type": "markdown",
   "metadata": {
    "jupyter": {
     "outputs_hidden": false
    },
    "pycharm": {
     "name": "#%%\n"
    },
    "slideshow": {
     "slide_type": "fragment"
    }
   },
   "source": [
    "Note: These embedding files are loaded as [Keyed Vectors](https://radimrehurek.com/gensim/models/keyedvectors.html), and this is different from the [models](https://radimrehurek.com/gensim/models/word2vec.html) used for training your own embeddings. Most methods shown here are also available for the models, but the syntax might differ."
   ]
  },
  {
   "cell_type": "code",
   "execution_count": 16,
   "metadata": {
    "jupyter": {
     "outputs_hidden": false
    },
    "pycharm": {
     "name": "#%%\n"
    },
    "slideshow": {
     "slide_type": "slide"
    }
   },
   "outputs": [
    {
     "data": {
      "text/plain": [
       "array([[ 0.62415 ,  0.62476 , -0.082335,  0.20101 , -0.13741 , -0.11431 ,\n",
       "         0.77909 ,  2.6356  , -0.46351 ,  0.57465 , -0.024888, -0.015466,\n",
       "        -2.9696  , -0.49876 ,  0.095034, -0.94879 , -0.017336, -0.86349 ,\n",
       "        -1.3348  ,  0.046811,  0.36999 , -0.57663 , -0.48469 ,  0.40078 ,\n",
       "         0.75345 ],\n",
       "       [ 0.69586 , -1.1469  , -0.41797 , -0.022311, -0.023801,  0.82358 ,\n",
       "         1.2228  ,  1.741   , -0.90979 ,  1.3725  ,  0.1153  , -0.63906 ,\n",
       "        -3.2252  ,  0.61269 ,  0.33544 , -0.57058 , -0.50861 , -0.16575 ,\n",
       "        -0.98153 , -0.8213  ,  0.24333 , -0.14482 , -0.67877 ,  0.7061  ,\n",
       "         0.40833 ],\n",
       "       [ 1.1242  ,  0.054519, -0.037362,  0.10046 ,  0.11923 , -0.30009 ,\n",
       "         1.0938  ,  2.537   , -0.072802,  1.0491  ,  1.0931  ,  0.066084,\n",
       "        -2.7036  , -0.14391 , -0.22031 , -0.99347 , -0.65072 , -0.030948,\n",
       "        -1.0817  , -0.64701 ,  0.32341 , -0.41612 , -0.5268  , -0.047166,\n",
       "         0.71549 ]], dtype=float32)"
      ]
     },
     "execution_count": 16,
     "metadata": {},
     "output_type": "execute_result"
    }
   ],
   "source": [
    "# retrieve the embedding matrix\n",
    "glove_twitter_25.vectors[:3]"
   ]
  },
  {
   "cell_type": "code",
   "execution_count": 17,
   "metadata": {
    "jupyter": {
     "outputs_hidden": false
    },
    "pycharm": {
     "name": "#%%\n"
    },
    "slideshow": {
     "slide_type": "slide"
    }
   },
   "outputs": [
    {
     "data": {
      "text/plain": [
       "array([-0.96419 , -0.60978 ,  0.67449 ,  0.35113 ,  0.41317 , -0.21241 ,\n",
       "        1.3796  ,  0.12854 ,  0.31567 ,  0.66325 ,  0.3391  , -0.18934 ,\n",
       "       -3.325   , -1.1491  , -0.4129  ,  0.2195  ,  0.8706  , -0.50616 ,\n",
       "       -0.12781 , -0.066965,  0.065761,  0.43927 ,  0.1758  , -0.56058 ,\n",
       "        0.13529 ], dtype=float32)"
      ]
     },
     "execution_count": 17,
     "metadata": {},
     "output_type": "execute_result"
    }
   ],
   "source": [
    "# retrieving the vector for a given word\n",
    "glove_twitter_25[\"cat\"]"
   ]
  },
  {
   "cell_type": "code",
   "execution_count": 18,
   "metadata": {
    "jupyter": {
     "outputs_hidden": false
    },
    "pycharm": {
     "name": "#%%\n"
    },
    "slideshow": {
     "slide_type": "slide"
    }
   },
   "outputs": [
    {
     "data": {
      "text/plain": [
       "[('dog', 0.9590820074081421),\n",
       " ('monkey', 0.920357882976532),\n",
       " ('bear', 0.9143136739730835),\n",
       " ('pet', 0.9108031392097473),\n",
       " ('girl', 0.8880629539489746)]"
      ]
     },
     "execution_count": 18,
     "metadata": {},
     "output_type": "execute_result"
    }
   ],
   "source": [
    "# retrieving topn most similar words\n",
    "glove_twitter_25.most_similar(\"cat\", topn=5)"
   ]
  },
  {
   "cell_type": "code",
   "execution_count": 19,
   "metadata": {
    "jupyter": {
     "outputs_hidden": false
    },
    "pycharm": {
     "name": "#%%\n"
    },
    "slideshow": {
     "slide_type": "fragment"
    }
   },
   "outputs": [
    {
     "data": {
      "text/plain": [
       "'chocolate'"
      ]
     },
     "execution_count": 19,
     "metadata": {},
     "output_type": "execute_result"
    }
   ],
   "source": [
    "# which word is the least similar to the others?\n",
    "glove_twitter_25.doesnt_match(\"republican democrat liberal chocolate\".split())"
   ]
  },
  {
   "cell_type": "code",
   "execution_count": 20,
   "metadata": {
    "jupyter": {
     "outputs_hidden": false
    },
    "pycharm": {
     "name": "#%%\n"
    },
    "slideshow": {
     "slide_type": "slide"
    }
   },
   "outputs": [
    {
     "data": {
      "text/plain": [
       "0.3898266"
      ]
     },
     "execution_count": 20,
     "metadata": {},
     "output_type": "execute_result"
    }
   ],
   "source": [
    "# see the similarity score between certain words\n",
    "glove_twitter_25.similarity(\"media\", \"dress\")"
   ]
  },
  {
   "cell_type": "code",
   "execution_count": 21,
   "metadata": {
    "jupyter": {
     "outputs_hidden": false
    },
    "pycharm": {
     "name": "#%%\n"
    },
    "slideshow": {
     "slide_type": "fragment"
    }
   },
   "outputs": [
    {
     "data": {
      "text/plain": [
       "5"
      ]
     },
     "execution_count": 21,
     "metadata": {},
     "output_type": "execute_result"
    }
   ],
   "source": [
    "# see the neighbor rank between certain words\n",
    "glove_twitter_25.rank(\"cat\", \"girl\")\n",
    "# girl is the how-manieth closest word to cat?"
   ]
  },
  {
   "cell_type": "markdown",
   "metadata": {
    "pycharm": {
     "name": "#%% md\n"
    },
    "slideshow": {
     "slide_type": "slide"
    }
   },
   "source": [
    "# 2. T-SNE dimensionality reduction for visualizing word embeddings\n",
    "\n",
    "T-SNE is a popular method for visualizing word embeddings by reducing their dimensionality down to 2 dimensions, which can be plotted on x and y axis. It is [implemented](https://scikit-learn.org/stable/modules/generated/sklearn.manifold.TSNE.html) in sklearn.\n",
    "\n",
    "```python\n",
    "from sklearn.manifold import TSNE\n",
    "```"
   ]
  },
  {
   "cell_type": "code",
   "execution_count": 23,
   "metadata": {
    "jupyter": {
     "outputs_hidden": false
    },
    "pycharm": {
     "name": "#%%\n"
    },
    "slideshow": {
     "slide_type": "slide"
    }
   },
   "outputs": [
    {
     "data": {
      "text/plain": [
       "(18, 25)"
      ]
     },
     "execution_count": 23,
     "metadata": {},
     "output_type": "execute_result"
    }
   ],
   "source": [
    "# Pick some words whose embeddings we want to see reduced to 2 dimensions\n",
    "words = [\"cat\", \"dog\", \"hamster\", \"parrot\", \"goldfish\", \"canary\",\n",
    "         \"lion\", \"zebra\", \"elephant\", \"giraffe\", \"camel\", \"antelope\",\n",
    "         \"tea\", \"coffee\", \"lemonade\", \"cocktail\", \"chai\", \"cappucino\"]\n",
    "\n",
    "word_vectors = glove_twitter_25[words]    \n",
    "word_vectors.shape"
   ]
  },
  {
   "cell_type": "code",
   "execution_count": 24,
   "metadata": {
    "jupyter": {
     "outputs_hidden": false
    },
    "pycharm": {
     "name": "#%%\n"
    },
    "slideshow": {
     "slide_type": "slide"
    }
   },
   "outputs": [],
   "source": [
    "# Visualize a set of words using T-SNE decomposition\n",
    "tsne = TSNE(2, random_state=0, perplexity=5)\n",
    "reduced_vectors = tsne.fit_transform(word_vectors)\n",
    "x_coords = reduced_vectors[:, 0]\n",
    "y_coords = reduced_vectors[:, 1]"
   ]
  },
  {
   "cell_type": "code",
   "execution_count": 25,
   "metadata": {
    "jupyter": {
     "outputs_hidden": false
    },
    "pycharm": {
     "name": "#%%\n"
    },
    "slideshow": {
     "slide_type": "slide"
    }
   },
   "outputs": [
    {
     "data": {
      "image/png": "[encoded data removed]",
      "text/plain": [
       "<Figure size 1200x1200 with 1 Axes>"
      ]
     },
     "metadata": {},
     "output_type": "display_data"
    }
   ],
   "source": [
    "# Plot the embeddings\n",
    "plt.figure(figsize=(12, 12))\n",
    "plt.scatter(x_coords, y_coords)\n",
    "\n",
    "# Add labels for each point\n",
    "for i, word in enumerate(words):\n",
    "    plt.annotate(word, (x_coords[i], y_coords[i]))\n",
    "\n",
    "plt.title('t-SNE Visualization of Word Embeddings')\n",
    "plt.show()"
   ]
  },
  {
   "cell_type": "markdown",
   "metadata": {
    "pycharm": {
     "name": "#%% md\n"
    },
    "slideshow": {
     "slide_type": "slide"
    }
   },
   "source": [
    "# 3. Training your own embeddings\n",
    "\n",
    "Gensim provides implementations of several popular embedding methods, including [Word2vec](https://radimrehurek.com/gensim/models/word2vec.html) and [FastText](https://radimrehurek.com/gensim/models/fasttext.html#gensim.models.fasttext.FastText)."
   ]
  },
  {
   "cell_type": "markdown",
   "metadata": {
    "pycharm": {
     "name": "#%% md\n"
    },
    "slideshow": {
     "slide_type": "slide"
    }
   },
   "source": [
    "First we will need to load our data. In the exercise we will use only very small corpora, but generally word embeddings are trained on large volumes of data that are impractical to load into memory at once. \n",
    "\n",
    "Let us practice with a custom data loader class that will read the data from disk line by line, and where we could add more pre-processing if we wished."
   ]
  },
  {
   "cell_type": "code",
   "execution_count": 5,
   "metadata": {
    "jupyter": {
     "outputs_hidden": false
    },
    "pycharm": {
     "name": "#%%\n"
    },
    "slideshow": {
     "slide_type": "slide"
    }
   },
   "outputs": [],
   "source": [
    "class MyDataLoader(object):\n",
    "\n",
    "    # initialize the corpus object for a given filename\n",
    "    def __init__(self, filename):\n",
    "        self.corpus = filename\n",
    "\n",
    "    # you will need to define how you want the next chunk of text (document, sentence etc)\n",
    "    # to be provided. Here, we assume one line per document format.\n",
    "    def __iter__(self):\n",
    "        for line in open(self.corpus, \"r\"):\n",
    "            # could do more preprocessing here\n",
    "            line = line.split()\n",
    "            yield line"
   ]
  },
  {
   "cell_type": "markdown",
   "metadata": {
    "pycharm": {
     "name": "#%% md\n"
    },
    "slideshow": {
     "slide_type": "slide"
    }
   },
   "source": [
    "We will experiment with the text of \"Pride and prejudice\" by Jane Austen. Let us load it:"
   ]
  },
  {
   "cell_type": "code",
   "execution_count": 6,
   "metadata": {
    "jupyter": {
     "outputs_hidden": false
    },
    "pycharm": {
     "name": "#%%\n"
    },
    "slideshow": {
     "slide_type": "fragment"
    }
   },
   "outputs": [],
   "source": [
    "pp = MyDataLoader(\"pp.txt\")"
   ]
  },
  {
   "cell_type": "code",
   "execution_count": 7,
   "metadata": {
    "jupyter": {
     "outputs_hidden": false
    },
    "pycharm": {
     "name": "#%%\n"
    },
    "slideshow": {
     "slide_type": "slide"
    }
   },
   "outputs": [],
   "source": [
    "# time to train the skip-gram model:\n",
    "austen2vec = gensim.models.Word2Vec(\n",
    "    pp,               # the corpus object we've loaded\n",
    "    vector_size=50,  # the dimensionality of the target vectors\n",
    "    window=2,         # window ngram size\n",
    "    min_count=5,      # ignoring low-frequency words\n",
    "    epochs=3,         # how many training passes to have\n",
    "    sg = 1)           # 1 for skip-gram model, 0 for cbow"
   ]
  },
  {
   "cell_type": "code",
   "execution_count": 8,
   "metadata": {
    "jupyter": {
     "outputs_hidden": false
    },
    "pycharm": {
     "name": "#%%\n"
    },
    "slideshow": {
     "slide_type": "slide"
    }
   },
   "outputs": [
    {
     "data": {
      "text/plain": [
       "[('Collins', 0.9846874475479126),\n",
       " ('Bingley', 0.9846115708351135),\n",
       " ('Darcy,', 0.9598349928855896),\n",
       " ('Gardiner', 0.9553936719894409),\n",
       " ('Bennet', 0.9501831531524658),\n",
       " ('Bennet,', 0.9481055736541748),\n",
       " ('Wickham', 0.9468832015991211),\n",
       " ('Collins,', 0.9441304802894592),\n",
       " ('Gardiner,', 0.9372818470001221),\n",
       " (\"Darcy's\", 0.9357696771621704)]"
      ]
     },
     "execution_count": 8,
     "metadata": {},
     "output_type": "execute_result"
    }
   ],
   "source": [
    "# the vectors now can be accessed through the .wv property of the model\n",
    "austen2vec.wv.most_similar(\"Darcy\")"
   ]
  },
  {
   "cell_type": "code",
   "execution_count": 10,
   "metadata": {
    "jupyter": {
     "outputs_hidden": false
    },
    "pycharm": {
     "name": "#%%\n"
    }
   },
   "outputs": [],
   "source": [
    "# the trained model can be saved to disk for future use\n",
    "# see the gensim documentation for how to load local models of various types\n",
    "austen2vec.save(\"pp.bin\")"
   ]
  },
  {
   "cell_type": "markdown",
   "metadata": {
    "pycharm": {
     "name": "#%% md\n"
    },
    "slideshow": {
     "slide_type": "slide"
    }
   },
   "source": [
    "# Credits\n",
    "\n",
    "* https://radimrehurek.com/gensim/auto_examples/tutorials/run_word2vec.html"
   ]
  }
 ],
 "metadata": {
  "celltoolbar": "Slideshow",
  "kernelspec": {
   "display_name": "Python 3 (ipykernel)",
   "language": "python",
   "name": "python3"
  },
  "language_info": {
   "codemirror_mode": {
    "name": "ipython",
    "version": 3
   },
   "file_extension": ".py",
   "mimetype": "text/x-python",
   "name": "python",
   "nbconvert_exporter": "python",
   "pygments_lexer": "ipython3",
   "version": "3.10.6"
  }
 },
 "nbformat": 4,
 "nbformat_minor": 4
}
