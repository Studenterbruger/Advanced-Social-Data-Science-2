{
 "cells": [
  {
   "cell_type": "code",
   "execution_count": 1,
   "metadata": {
    "pycharm": {
     "name": "#%%\n"
    }
   },
   "outputs": [],
   "source": [
    "import gensim.downloader\n",
    "import pandas as pd\n",
    "import numpy as np\n",
    "import torch\n",
    "import random\n",
    "from nltk.tokenize import word_tokenize\n",
    "from sklearn.manifold import TSNE\n",
    "from sklearn.metrics import accuracy_score\n",
    "import datasets\n",
    "import matplotlib.pyplot as plt\n",
    "\n",
    "# enabling inline plots in Jupyter\n",
    "%matplotlib inline\n",
    "datasets.logging.set_verbosity_error()"
   ]
  },
  {
   "cell_type": "markdown",
   "metadata": {},
   "source": [
    "# Exercise: word embeddings\n",
    "\n",
    "In this exercise set, we will be playing around with word embeddings. First, we will be exploring and comparing a few different pre-trained word embeddings, trained on huge data sets. We will try to vizualize some of the embeddings from one of these models in a two-dimensional space. Next, we will examine the embeddings by looking at the neighbors of some political terms. We will also look at whteher these embeddings contain any gender bias. Finally, we will train our own embeddings on a data set of speeches by Donald Trump."
   ]
  },
  {
   "cell_type": "markdown",
   "metadata": {
    "pycharm": {
     "name": "#%% md\n"
    }
   },
   "source": [
    "# 1. Visualizing word embeddings\n",
    "\n",
    "1. Use [Gensim](https://radimrehurek.com/gensim/) (in particular, the `gensim.downloader.load()` module) to download and import 3 GloVe word embeddings: `glove-wiki-gigaword-50`, `glove-twitter-50`, `glove-twitter-200`. The wiki-gigaword embeddings were trained on a combination of wikipedia and Gigaword corpus. The twitter embeddings were trained on a corpus of tweets. They also contain word embeddings of different lengths (50 and 200 dimensions for Twitter, 50 for wiki+gigaword).\n",
    "2. Let's see what the `glove_twitter_50` embeddings look like if we try to plot them in a two-dimensional space. Complete the code below to create a [T-SNE](https://scikit-learn.org/stable/modules/generated/sklearn.manifold.TSNE.html) visualization of the 200 most common words in the corpus that the embeddings were trained on.\n",
    "\n",
    "Hint: You can retrieve the embeddings of a list of words from a gensim embeddig model like so: `embedding[words]`. [This](https://radimrehurek.com/gensim/models/word2vec.html) documentation can help find you find other useful methods for the embeddings. That said, tools like Google are always useful to find necessary documentation and other resources."
   ]
  },
  {
   "cell_type": "code",
   "execution_count": 2,
   "metadata": {
    "pycharm": {
     "name": "#%%\n"
    },
    "scrolled": true
   },
   "outputs": [],
   "source": [
    "#download gloves\n",
    "glove_wiki_50 = \n",
    "glove_twitter_50 = \n",
    "glove_twitter_200 = "
   ]
  },
  {
   "cell_type": "code",
   "execution_count": 3,
   "metadata": {},
   "outputs": [],
   "source": [
    "# let's try to see what these embeddings look like in 2D space\n",
    "\n",
    "embedding =   # fill in the desired embedding\n",
    "\n",
    "# Get first 200 words of words for visualization\n",
    "words = list(embedding.key_to_index.keys())[:200]\n",
    "\n",
    "# Get the corresponding vectors for the words\n",
    "word_vectors = \n",
    "\n",
    "# Apply t-SNE for dimensionality reduction\n",
    "tsne = TSNE(n_components=2, random_state=42)\n",
    "reduced_vectors = \n",
    "\n",
    "# Extract x and y coordinates\n",
    "x_coords = reduced_vectors[:, 0]\n",
    "y_coords = \n",
    "\n",
    "# Plot the embeddings\n",
    "plt.figure(figsize=(12, 12))\n",
    "plt.scatter(x_coords, y_coords)\n",
    "\n",
    "# Add labels for each point\n",
    "for i, word in enumerate(words):\n",
    "    plt.annotate(word, (x_coords[i], y_coords[i]))\n",
    "\n",
    "plt.title('t-SNE Visualization of Word Embeddings')\n",
    "plt.show()\n"
   ]
  },
  {
   "cell_type": "markdown",
   "metadata": {},
   "source": [
    "# 2. Exploring similar words\n",
    "\n",
    "1. Find the top 10 similar words to the word \"republican\" in all three models above, using the [similar_by_word](https://tedboy.github.io/nlps/generated/generated/gensim.models.Word2Vec.similar_by_word.html) method. How similar are the models? How many words in this neighborhood overlap between the two Twitter models, and the two 50-dimensional models?\n",
    "2. Find what is the neighbor rank of \"democrat\" to \"republican\" in all three models (democrat is the how-manieth-closest neighbor of republican?).\n"
   ]
  },
  {
   "cell_type": "code",
   "execution_count": 1,
   "metadata": {
    "pycharm": {
     "name": "#%%\n"
    },
    "tags": []
   },
   "outputs": [],
   "source": [
    "# Find the top 10 similar words to the word \"republican\" in all three models  \n"
   ]
  },
  {
   "cell_type": "code",
   "execution_count": 5,
   "metadata": {
    "pycharm": {
     "name": "#%%\n"
    }
   },
   "outputs": [],
   "source": [
    "# Get the top n similar words using glove-wiki-gigaword-50 embedding\n",
    "\n",
    "# Find the intersection of similar words between glove-twitter-50 and glove-twitter-200 embeddings\n"
   ]
  },
  {
   "cell_type": "code",
   "execution_count": 6,
   "metadata": {
    "pycharm": {
     "name": "#%%\n"
    }
   },
   "outputs": [],
   "source": [
    "# Find what is the neighbor rank of \"democrat\" to \"republican\" in all three models.\n"
   ]
  },
  {
   "cell_type": "markdown",
   "metadata": {},
   "source": [
    "# 3. Bias in embeddings"
   ]
  },
  {
   "cell_type": "markdown",
   "metadata": {
    "tags": []
   },
   "source": [
    "Let's investigate what our embedding models have learned about which professions are associated with which genders. Use the [most_similar](https://tedboy.github.io/nlps/generated/generated/gensim.models.Word2Vec.most_similar.html) method to solve analogies with the GloVe wiki + Gigaword embeddings. Follow the example below, and then insert your own professions which might be associated with one gender.\n",
    "\n",
    "This section of the paper harks back to the, now famous, [article](https://arxiv.org/abs/1310.4546) that found the geometry of embedding vectors to mirror semantic logic, whereby vector algebra yields:\n",
    "\n",
    "v_King - v_Man + v_Woman = v_Queen\n",
    "\n",
    "![image.png](data:image/png;base64,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)"
   ]
  },
  {
   "cell_type": "code",
   "execution_count": 37,
   "metadata": {
    "tags": []
   },
   "outputs": [
    {
     "data": {
      "text/plain": [
       "[('nurse', 0.8434410095214844),\n",
       " ('mother', 0.7978049516677856),\n",
       " ('child', 0.7920326590538025),\n",
       " ('woman', 0.7831878066062927),\n",
       " ('pregnant', 0.7726936936378479),\n",
       " ('girl', 0.7672077417373657),\n",
       " ('her', 0.7481821775436401),\n",
       " ('patient', 0.7464373707771301),\n",
       " ('boy', 0.7313278913497925),\n",
       " ('learns', 0.7268911600112915)]"
      ]
     },
     "execution_count": 37,
     "metadata": {},
     "output_type": "execute_result"
    }
   ],
   "source": [
    "#this example code solves the analogy: \"he is to doctor as she is to?\"\n",
    "glove_wiki_50.most_similar(positive=['she', 'doctor'], negative=['he'])"
   ]
  },
  {
   "cell_type": "code",
   "execution_count": 38,
   "metadata": {
    "tags": []
   },
   "outputs": [
    {
     "data": {
      "text/plain": [
       "[('prodigy', 0.6731117367744446),\n",
       " ('therapist', 0.6414064764976501),\n",
       " ('psychotherapist', 0.6201493144035339),\n",
       " ('technician', 0.6191534996032715),\n",
       " ('programmers', 0.59874427318573),\n",
       " ('educator', 0.5932906866073608),\n",
       " ('psychologist', 0.5907979607582092),\n",
       " ('installer', 0.5891358256340027),\n",
       " ('acrobat', 0.5890737771987915),\n",
       " ('indian-american', 0.5828383564949036)]"
      ]
     },
     "execution_count": 38,
     "metadata": {},
     "output_type": "execute_result"
    }
   ],
   "source": [
    "#this example code solves the analogy: \"man is to programmer as woman is to?\"\n",
    "glove_wiki_50.most_similar(positive=['woman', 'programmer'], negative=['man'])"
   ]
  },
  {
   "cell_type": "markdown",
   "metadata": {},
   "source": [
    "Note: there is an interesting [paper](https://arxiv.org/abs/1905.09866) by Nissim, van Noord and van der Goot (2019) criticizing the use of `gensim`'s `most_similar` analogy-solving method as a way to find bias in embeddings. They argue that first, `most_similar` is not allowed to ouput a word as a solution that is already in the query (e.g. it cannot output `programmer` in the example above). Therefore, we cannot find cases where there is no gender bias at all, where the best answer would be to fill in the same profession on both sides. Second, in light of this, it is actually unclear what a *correct, unbiased* answer to these analogies would look like."
   ]
  },
  {
   "cell_type": "markdown",
   "metadata": {
    "pycharm": {
     "name": "#%% md\n"
    },
    "tags": []
   },
   "source": [
    "# 4. Training your own word embeddings\n",
    "\n",
    "Here, we will use Word2Vec to train our own embeddings on a relatively small data set of Trump's speeches during 2016 election campaign. Thus, we will capture the meaning associations between words according to Trump.\n",
    "\n",
    "To feed this dataset into the embedding model, we will once again use a Dataloader. This time, we will create our own Dataloader class from scratch. The key part of the Dataloader is the `__iter__` method, which allows us to feed inputs to the model one chunk at a time, without loading the whole dataset into memory. This is not so important with a data set this size, but will come in handy when you work with much larger files.\n",
    "\n",
    "1. Complete the `__iter__` method of the provided data loader class. Right now, it is set up to return one line from the file at a time. Before we return the line, though, we want to tokenize the line with a tokenizer of your choice, e.g. [word_tokenize](https://www.nltk.org/api/nltk.tokenize.word_tokenize.html) form `nltk`. We also want to lowercase it and remove any empty lines. Finally, we want to yield (output) the line in the form of a list of tokens, as that is the input format our Word2Vec model will expect.\n",
    "2. Create an instance of the data loader class that uses the raw text file of speeches (`trump_speeches.txt`). The file comes from [this repository](https://github.com/ryanmcdermott/trump-speeches), distributed under \"fair use\".\n"
   ]
  },
  {
   "cell_type": "code",
   "execution_count": 2,
   "metadata": {
    "pycharm": {
     "name": "#%%\n"
    },
    "tags": []
   },
   "outputs": [],
   "source": [
    "# exercise template\n",
    "class MyDataLoader(object):\n",
    "\n",
    "    # when we initialize this dataloader, it will take a filename as an argument\n",
    "    def __init__(self, filename):\n",
    "        self.corpus = filename\n",
    "\n",
    "    # we will need to define what counts as a \"chunk\" in this file, so when the\n",
    "    # Dataloader is loading (iterating over) the file and feeding it to the embedding\n",
    "    # model, it knows what to treat as one unit. Here, we (arbitrarily) say that one\n",
    "    # line in the file (corresponding to a paragraph) is one chunk.\n",
    "    def __iter__(self):\n",
    "        for line in open(self.corpus, \"r\", encoding=\"utf-8\"):\n",
    "            # check that the line is not empty (if it is, do nothing):\n",
    "            \n",
    "            # tokenize and lowercase the string before yielding it\n",
    "            # the output must be a list of tokens in the line\n",
    "            yield line"
   ]
  },
  {
   "cell_type": "code",
   "execution_count": 7,
   "metadata": {
    "pycharm": {
     "name": "#%%\n"
    }
   },
   "outputs": [],
   "source": [
    "# loading Trump speeches with the custom loader\n"
   ]
  },
  {
   "cell_type": "markdown",
   "metadata": {},
   "source": [
    "3. Use Gensim to train your own Word2Vec SkipGram embeddings, using this text as a corpus. Use vector size 300, window size 3, 3 epochs. Consider the parameters listed on Gensim's [word2vec reference page](https://radimrehurek.com/gensim/models/word2vec.html).\n",
    "4. Compare the nearest neighbours of \"China\" and \"Russia\" in the Trump's word2vec. How different are they? Are these representations equally reliable? Why or why not?\n",
    "5. Explore your Trump embeddings with any questions you may have yourself. E.g. what words are associated with \"great\" for him, and what words are associated with \"bad\"? Ultimately, do you feel that the embeddings we are getting are meaningful or noisy?"
   ]
  },
  {
   "cell_type": "code",
   "execution_count": 67,
   "metadata": {
    "pycharm": {
     "name": "#%%\n"
    }
   },
   "outputs": [],
   "source": [
    "# train the Skip-Gram - model\n",
    "trump2vec = \n"
   ]
  },
  {
   "cell_type": "code",
   "execution_count": 8,
   "metadata": {
    "pycharm": {
     "name": "#%%\n"
    }
   },
   "outputs": [],
   "source": [
    "# Compare the nearest neighbours of \"China\" and \"Russia\" in the Trump's word2vec. \n"
   ]
  }
 ],
 "metadata": {
  "kernelspec": {
   "display_name": "Python 3 (ipykernel)",
   "language": "python",
   "name": "python3"
  },
  "language_info": {
   "codemirror_mode": {
    "name": "ipython",
    "version": 3
   },
   "file_extension": ".py",
   "mimetype": "text/x-python",
   "name": "python",
   "nbconvert_exporter": "python",
   "pygments_lexer": "ipython3",
   "version": "3.10.6"
  }
 },
 "nbformat": 4,
 "nbformat_minor": 4
}
