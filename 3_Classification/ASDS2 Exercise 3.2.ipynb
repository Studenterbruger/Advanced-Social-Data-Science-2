{
 "cells": [
  {
   "cell_type": "code",
   "execution_count": 1,
   "metadata": {
    "pycharm": {
     "name": "#%%\n"
    },
    "tags": []
   },
   "outputs": [
    {
     "name": "stderr",
     "output_type": "stream",
     "text": [
      "c:\\Users\\asger\\AppData\\Local\\pypoetry\\Cache\\virtualenvs\\advanced_social_data-1nT6mJ2B-py3.11\\Lib\\site-packages\\tqdm\\auto.py:21: TqdmWarning: IProgress not found. Please update jupyter and ipywidgets. See https://ipywidgets.readthedocs.io/en/stable/user_install.html\n",
      "  from .autonotebook import tqdm as notebook_tqdm\n"
     ]
    }
   ],
   "source": [
    "import pandas as pd\n",
    "import numpy as np\n",
    "from datasets import load_dataset, logging\n",
    "from sklearn.feature_extraction.text import TfidfVectorizer, CountVectorizer\n",
    "from sklearn.linear_model import LogisticRegression\n",
    "from sklearn.model_selection import cross_val_score, GridSearchCV, StratifiedKFold\n",
    "from sklearn.svm import SVC, LinearSVC\n",
    "from sklearn.naive_bayes import MultinomialNB\n",
    "from sklearn.metrics import accuracy_score, f1_score, confusion_matrix\n",
    "\n",
    "import matplotlib.pyplot as plt\n",
    "# enabling inline plots in Jupyter\n",
    "%matplotlib inline\n",
    "# disabling verbose messages from dataset library\n",
    "logging.set_verbosity_error()"
   ]
  },
  {
   "attachments": {},
   "cell_type": "markdown",
   "metadata": {},
   "source": [
    "# Exercise: Classification II\n",
    "\n",
    "In this exercise session, you will be using cross-validation to check the out-of-sample performance of different models for classifying movie review sentiment (using TF-IDF features as in the Classification I problem set). You will compare a logistic regression model to SVM and Naive Bayes. You will also use cross-validation for hyperparameter grid search.\n",
    "\n",
    "Pro tip: As you will be fitting a lot of models in this exercise, why not take a look at how sklearn handles [parallelism](https://scikit-learn.org/stable/computing/parallelism.html#parallelism). A lot of method in the sklearn library take a parameter [n_jobs](https://scikit-learn.org/stable/glossary.html#term-n_jobs). By setting it to -1, you can use all of your CPUs (cores) at once. Depending on your hardware you may see 8x faster code, which means less waiting and more learning."
   ]
  },
  {
   "attachments": {},
   "cell_type": "markdown",
   "metadata": {
    "pycharm": {
     "name": "#%% md\n"
    }
   },
   "source": [
    "# 1. Cross-validation\n",
    "\n",
    "Cross-validate the logistic regression classifier on the `rotten_tomatoes` dataset with TF-IDF vectorization that we used in the previous exercise. Perform 5-fold stratified cross-validation with the built-in method `cross_val_score` method in the sklearn `model_selection` module. Throughout this exercise (up to step 6), set the `scoring` parameter of `cross_val_score` to \"accuracy\". This means we will be using accuracy as our performance metric.\n",
    "\n",
    "Compare performance (averaged across the five folds) to the model's in-sample performance on the training set. Does the model seem to be overfitting?\n",
    "\n",
    "\n",
    "Reference: sklearn `cross_val_score` [documentation](https://scikit-learn.org/stable/modules/generated/sklearn.model_selection.cross_val_score.html)"
   ]
  },
  {
   "cell_type": "code",
   "execution_count": 2,
   "metadata": {},
   "outputs": [
    {
     "name": "stdout",
     "output_type": "stream",
     "text": [
      "Downloading and preparing dataset rotten_tomatoes/default to C:/Users/asger/.cache/huggingface/datasets/rotten_tomatoes/default/1.0.0/40d411e45a6ce3484deed7cc15b82a53dad9a72aafd9f86f8f227134bec5ca46...\n"
     ]
    },
    {
     "name": "stderr",
     "output_type": "stream",
     "text": [
      "                                                                                     \r"
     ]
    },
    {
     "name": "stdout",
     "output_type": "stream",
     "text": [
      "Dataset rotten_tomatoes downloaded and prepared to C:/Users/asger/.cache/huggingface/datasets/rotten_tomatoes/default/1.0.0/40d411e45a6ce3484deed7cc15b82a53dad9a72aafd9f86f8f227134bec5ca46. Subsequent calls will reuse this data.\n"
     ]
    }
   ],
   "source": [
    "# load the 2-class sentiment classification model from rotten tomatoes\n",
    "train = load_dataset('rotten_tomatoes', split='train')\n",
    "val = load_dataset('rotten_tomatoes',  split='validation')\n",
    "test = load_dataset('rotten_tomatoes', split='test')"
   ]
  },
  {
   "cell_type": "code",
   "execution_count": 3,
   "metadata": {},
   "outputs": [],
   "source": [
    "# vectorizing the data with TF-IDF corpus\n",
    "vectorizer = TfidfVectorizer() # the default ngram range is (1,1)\n",
    "\n",
    "train_corpus = [x[\"text\"] for x in train] # Samler alle dokumenterne i en\n",
    "train_labels = [x[\"label\"] for x in train] # Samler alle deres rigtige klassificeringer\n",
    "train_features = vectorizer.fit_transform(train_corpus) # Så køre vi Tf-idf på hele korpus og transformere format\n",
    "\n",
    "val_corpus = [x[\"text\"] for x in val]\n",
    "val_labels = [x[\"label\"] for x in val]\n",
    "val_features = vectorizer.transform(val_corpus)\n",
    "\n",
    "test_corpus = [x[\"text\"] for x in test]\n",
    "test_labels = [x[\"label\"] for x in test]\n",
    "test_features = vectorizer.transform(test_corpus)"
   ]
  },
  {
   "cell_type": "code",
   "execution_count": 18,
   "metadata": {},
   "outputs": [
    {
     "name": "stdout",
     "output_type": "stream",
     "text": [
      "Logistic Regression in-sample accuracy:  0.8960140679953107\n",
      "Logistic Regression cross-validation accuracy:  0.7514654161781946\n"
     ]
    }
   ],
   "source": [
    "lr_score  = cross_val_score(LogisticRegression(), train_features, train_labels,  scoring=\"accuracy\", cv=StratifiedKFold(n_splits=5), n_jobs=-1)\n",
    "\n",
    "#Compare performance (averaged across the five folds) to the model's in-sample performance on the training set\n",
    "lr = LogisticRegression().fit(train_features, train_labels)\n",
    "preds = lr.predict(train_features)\n",
    "\n",
    "print(\"Logistic Regression in-sample accuracy: \", accuracy_score(train_labels, preds))\n",
    "print(\"Logistic Regression cross-validation accuracy: \", np.mean(lr_score))\n"
   ]
  },
  {
   "attachments": {},
   "cell_type": "markdown",
   "metadata": {
    "pycharm": {
     "name": "#%% md\n"
    }
   },
   "source": [
    "# 2. Regularization\n",
    "\n",
    "Look up the documentation for [logistic regression](https://scikit-learn.org/stable/modules/generated/sklearn.linear_model.LogisticRegression.html). What parameters related to regularization are there?\n",
    "\n",
    "1. Add the regularization term to the logistic regression classifier with L2 regularization and retrain it. Set the value of the regularization parameter to any non-default value within its range.\n",
    "2. Compare the cross-validation performance to the unregularized classifier. Did anything change? Why do you think that is the case?"
   ]
  },
  {
   "cell_type": "code",
   "execution_count": 31,
   "metadata": {},
   "outputs": [
    {
     "name": "stdout",
     "output_type": "stream",
     "text": [
      "Regularized Logistic Regression in-sample accuracy:  0.8575615474794842\n",
      "Regularized Logistic Regression cross-validation accuracy:  0.7403282532239155\n",
      "Logistic Regression cross-validation accuracy:  0.7514654161781946\n"
     ]
    }
   ],
   "source": [
    "# Med cros\n",
    "lr_score_reg = cross_val_score(LogisticRegression( C=0.5, penalty=\"l2\"), train_features, train_labels, cv=StratifiedKFold(n_splits=5), scoring=\"accuracy\", n_jobs=-1)\n",
    "\n",
    "# Uden cros\n",
    "lr = LogisticRegression(C=0.5, penalty=\"l2\").fit(train_features, train_labels)\n",
    "preds = lr.predict(train_features)\n",
    "\n",
    "# Generelt så klare begge modeller sig dårligere når de er regulariserede. \n",
    "# Dette giver god mening, da regularisering er tænkt for at gøre så modellerne ikke overfitter på data\n",
    "print(\"Regularized Logistic Regression in-sample accuracy: \", accuracy_score(train_labels, preds))\n",
    "print(\"Regularized Logistic Regression cross-validation accuracy: \", np.mean(lr_score_reg))\n",
    "print(\"Logistic Regression cross-validation accuracy: \", np.mean(lr_score))"
   ]
  },
  {
   "attachments": {},
   "cell_type": "markdown",
   "metadata": {
    "pycharm": {
     "name": "#%% md\n"
    }
   },
   "source": [
    "# 3. Hyperparameter search\n",
    "\n",
    "1. Is the default value for the regularization parameter the best possible one? Use grid search with cross-validation to try several options.\n",
    "2. What is your best model? Compare its cross-validation performance to that of the original, non-regularized model.\n",
    "\n",
    "Reference: [GridSearchCV](https://scikit-learn.org/stable/modules/generated/sklearn.model_selection.GridSearchCV.html) documentation"
   ]
  },
  {
   "cell_type": "code",
   "execution_count": 73,
   "metadata": {},
   "outputs": [],
   "source": [
    "# GridSearchCV is a module that enables running\n",
    "# cross-validated grid-search over a parameter grid\n",
    "from sklearn.model_selection import GridSearchCV\n",
    "\n",
    "# the parameters to explore are passed as param_grid parameter\n",
    "param_grid = {'C': [0.001, 0.01, 0.1, 0.5, 0.8, 1, 8, 9, 10, 11, 12, 13]} # Laver de forskellige parametre GridSearchCV skal afprøve\n",
    "lr_grid = GridSearchCV(LogisticRegression(penalty=\"l2\"), param_grid, cv=10, n_jobs=-1)"
   ]
  },
  {
   "cell_type": "code",
   "execution_count": 75,
   "metadata": {},
   "outputs": [
    {
     "name": "stdout",
     "output_type": "stream",
     "text": [
      "Best cross-validation score: 0.77\n",
      "Best parameters:  {'C': 11}\n",
      "Best estimator:  LogisticRegression(C=11)\n",
      "Logistic Regression cross-validation accuracy:  0.7514654161781946\n"
     ]
    }
   ],
   "source": [
    "lr_grid.fit(train_features, train_labels)\n",
    "\n",
    "\n",
    "print(\"Best cross-validation score: {:.2f}\".format(lr_grid.best_score_))\n",
    "print(\"Best parameters: \", lr_grid.best_params_)\n",
    "print(\"Best estimator: \", lr_grid.best_estimator_)\n",
    "\n",
    "#Compare its cross-validation performance to that of the original, non-regularized model.\n",
    "print(\"Logistic Regression cross-validation accuracy: \", np.mean(lr_score))"
   ]
  },
  {
   "attachments": {},
   "cell_type": "markdown",
   "metadata": {
    "pycharm": {
     "name": "#%% md\n"
    }
   },
   "source": [
    "# 4. SVM classifier\n",
    "\n",
    "Perform the same experiment with the LinearSVC classifier (this is an SVM with a linear kernel) on the *rotten_tomatoes* dataset.\n",
    "\n",
    "1. Start with the default parameter settings.\n",
    "2. Try to find the best option for the *c* hyperparameter with grid search. What is your best model performance?\n",
    "3. Optional: try the SVM with a non-linear RBF kernel, and do the hyperparameter search on both *gamma* and *c*.\n",
    "\n",
    "Documentation for the LinearSVC classifier: [link](https://scikit-learn.org/stable/modules/generated/sklearn.svm.SVC.html)\n",
    "\n",
    "More about SVMs: [link](https://scikit-learn.org/stable/modules/svm.html)"
   ]
  },
  {
   "cell_type": "code",
   "execution_count": 78,
   "metadata": {},
   "outputs": [
    {
     "name": "stdout",
     "output_type": "stream",
     "text": [
      "LinearSVC cross-validation accuracy:  0.7566236811254397\n"
     ]
    }
   ],
   "source": [
    "# default LinearSVC\n",
    "linSVC = LinearSVC()\n",
    "\n",
    "linSVC_score = cross_val_score(LinearSVC(), train_features, train_labels, cv=StratifiedKFold(n_splits=5), scoring=\"accuracy\", n_jobs=-1)\n",
    "print(\"LinearSVC cross-validation accuracy: \", np.mean(linSVC_score))\n",
    "\n"
   ]
  },
  {
   "cell_type": "code",
   "execution_count": 79,
   "metadata": {},
   "outputs": [
    {
     "name": "stdout",
     "output_type": "stream",
     "text": [
      "Best cross-validation score: 0.76\n",
      "Best parameters:  {'C': 1}\n",
      "Best estimator:  LinearSVC(C=1)\n",
      "LinearSVC cross-validation accuracy:  0.7566236811254397\n"
     ]
    }
   ],
   "source": [
    "# hyperparameter search on LinearSVC\n",
    "param_grid = {'C': [0.001, 0.01, 0.1, 1, 10]}\n",
    "linSVC_grid = GridSearchCV(LinearSVC(), param_grid, cv=5, n_jobs=-1)\n",
    "\n",
    "linSVC_grid.fit(train_features, train_labels)\n",
    "\n",
    "print(\"Best cross-validation score: {:.2f}\".format(linSVC_grid.best_score_))\n",
    "print(\"Best parameters: \", linSVC_grid.best_params_)\n",
    "print(\"Best estimator: \", linSVC_grid.best_estimator_)\n",
    "\n",
    "# Without gridsearch, just using the default parameters\n",
    "print(\"LinearSVC cross-validation accuracy: \", np.mean(linSVC_score))"
   ]
  },
  {
   "cell_type": "code",
   "execution_count": 80,
   "metadata": {},
   "outputs": [
    {
     "name": "stdout",
     "output_type": "stream",
     "text": [
      "Fitting 5 folds for each of 9 candidates, totalling 45 fits\n",
      "Best cross-validation score: 0.76\n",
      "Best parameters:  {'C': 10, 'gamma': 0.1}\n",
      "Best estimator:  SVC(C=10, gamma=0.1)\n"
     ]
    }
   ],
   "source": [
    "# hyperparameter search on SVC with rbf kernel\n",
    "param_grid = {'C': [0.001, 0.1, 10], 'gamma': [0.001, 0.1, 10]}\n",
    "svc_grid = GridSearchCV(SVC(kernel=\"rbf\"), param_grid, cv=5, n_jobs = -1, verbose = 2)\n",
    "\n",
    "svc_grid.fit(train_features, train_labels)\n",
    "\n",
    "print(\"Best cross-validation score: {:.2f}\".format(svc_grid.best_score_))\n",
    "print(\"Best parameters: \", svc_grid.best_params_)\n",
    "print(\"Best estimator: \", svc_grid.best_estimator_)"
   ]
  },
  {
   "attachments": {},
   "cell_type": "markdown",
   "metadata": {
    "pycharm": {
     "name": "#%% md\n"
    }
   },
   "source": [
    "# 5. Naive Bayes classifier\n",
    "\n",
    "Perform the same experiment with the Naive Bayes classifier. You can use a Multinomial Naive Bayes model (`MultinomialNB`) here with default parameter settings, as this is the variant that we covered in class (predicting categories from word occurence counts).\n",
    "\n",
    "1. Multinomial Naive Bayes models don't take TF-IDF features, but rather word occurrence counts (so we need to leave out the IDF step). For that reason, re-vectorize the training data and then the test data using the `sklearn` `CountVectorizer` instead.\n",
    "2. Run the model on the count-vectorized training data. You don't need to do a hyperparameter grid search. What is your model performance?\n",
    "\n",
    "Documentation for the MultinomialNB classifier: [link](https://scikit-learn.org/stable/modules/generated/sklearn.naive_bayes.MultinomialNB.html)\n",
    "\n",
    "More about Naive Bayes models in sklearn: [link](https://scikit-learn.org/stable/modules/naive_bayes.html)\n",
    "\n",
    "Note: it seems the behavior of the classifier can be unstable when using n_jobs=-1. It should be fast enough without it. \n"
   ]
  },
  {
   "cell_type": "code",
   "execution_count": 83,
   "metadata": {},
   "outputs": [
    {
     "name": "stderr",
     "output_type": "stream",
     "text": [
      "[Parallel(n_jobs=1)]: Using backend SequentialBackend with 1 concurrent workers.\n"
     ]
    },
    {
     "name": "stdout",
     "output_type": "stream",
     "text": [
      "[CV] END .................................................... total time=   1.4s\n"
     ]
    },
    {
     "name": "stderr",
     "output_type": "stream",
     "text": [
      "[Parallel(n_jobs=1)]: Done   1 out of   1 | elapsed:    1.4s remaining:    0.0s\n"
     ]
    },
    {
     "name": "stdout",
     "output_type": "stream",
     "text": [
      "[CV] END .................................................... total time=   1.3s\n",
      "[CV] END .................................................... total time=   1.2s\n",
      "[CV] END .................................................... total time=   1.2s\n",
      "[CV] END .................................................... total time=   1.2s\n",
      "Naive Bayes cross-validation accuracy:  0.7648300117233294\n"
     ]
    },
    {
     "name": "stderr",
     "output_type": "stream",
     "text": [
      "[Parallel(n_jobs=1)]: Done   5 out of   5 | elapsed:    6.8s finished\n"
     ]
    }
   ],
   "source": [
    "counterizer = CountVectorizer()\n",
    "train_counts = counterizer.fit_transform(train_corpus)\n",
    "test_counts = counterizer.transform(test_corpus)\n",
    "\n",
    "nb = MultinomialNB()\n",
    "nb_score = cross_val_score(nb, train_counts.toarray(), train_labels, cv=StratifiedKFold(n_splits=5), scoring=\"accuracy\", verbose=2)\n",
    "\n",
    "print(\"Naive Bayes cross-validation accuracy: \", np.mean(nb_score))"
   ]
  },
  {
   "cell_type": "code",
   "execution_count": 82,
   "metadata": {},
   "outputs": [
    {
     "name": "stdout",
     "output_type": "stream",
     "text": [
      "Naive Bayes cross-validation accuracy:  0.7648300117233294\n"
     ]
    }
   ],
   "source": [
    "\n",
    "print(\"Naive Bayes cross-validation accuracy: \", np.mean(nb_score))"
   ]
  },
  {
   "attachments": {},
   "cell_type": "markdown",
   "metadata": {
    "pycharm": {
     "name": "#%% md\n"
    }
   },
   "source": [
    "# 6. Comparative analysis of classifier performance\n",
    "\n",
    "1. Use the code below as a starting point to compare the performance of logistic regression, Linear SVC and Naive Bayes classifers (with the best hyperparameters you could find for the first two models, and using the count-vectorized test data for the Naive Bayes classifier). Use both accuracy and F1 metrics. Are the two metrics consistent? Which is the best-performing model?\n",
    "2. Bonus: evaluate your three classifiers on your small test dataset that you annotated yourself in Classification I class. Are all the classifiers behaving the same way?\n",
    "\n",
    "Note: to get the best performing model, you can take the result of `GridSearchCV` and use its attribute `.best_estimator_`. Then, to use that model to make predictions on a new data set, you can apply the `.predict()` method to the model, giving it the new data set's features."
   ]
  },
  {
   "cell_type": "code",
   "execution_count": 85,
   "metadata": {},
   "outputs": [],
   "source": [
    "# getting LR and LinearSVC predictions\n",
    "\n",
    "lr_test_preds = lr_grid.best_estimator_.predict(test_features)\n",
    "linSVC_test_preds = linSVC_grid.best_estimator_.predict(test_features)\n",
    "\n",
    "# getting NB predictions\n",
    "nb.fit(train_counts.toarray(), train_labels)\n",
    "nb_test_preds = nb.predict(test_features.toarray())"
   ]
  }
 ],
 "metadata": {
  "kernelspec": {
   "display_name": "Python 3 (ipykernel)",
   "language": "python",
   "name": "python3"
  },
  "language_info": {
   "codemirror_mode": {
    "name": "ipython",
    "version": 3
   },
   "file_extension": ".py",
   "mimetype": "text/x-python",
   "name": "python",
   "nbconvert_exporter": "python",
   "pygments_lexer": "ipython3",
   "version": "3.11.2"
  }
 },
 "nbformat": 4,
 "nbformat_minor": 4
}
