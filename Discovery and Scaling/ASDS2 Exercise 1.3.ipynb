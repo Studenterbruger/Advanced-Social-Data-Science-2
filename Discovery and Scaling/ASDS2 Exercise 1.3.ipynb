{
 "cells": [
  {
   "cell_type": "markdown",
   "metadata": {},
   "source": [
    "# Keyword expansion \n",
    "\n",
    "In this exercise we are going to use the keyword expansion technique propsoed in `Computer-Assisted Keyword and Document Set Discovery from Unstructured Text` by King, Lam and Roberts (2017), in order to label a dataset of tweets according to whether or not they are related to covid-19. \n",
    "\n",
    "The idea is to use an initial list of keywords to label the date, and then use supervised learning to expand the list of keywords to get a better sense of how people talk about a topic. It is an iterative approach, meaning that you start with a list of keywords, and expand it, run it again etc. until you saturate the list. The approach also emphasises that you should read some of the text that you label, in order to ensure correct labelling. \n"
   ]
  },
  {
   "attachments": {},
   "cell_type": "markdown",
   "metadata": {},
   "source": [
    "This exercise is a python translation of Gregory Eady's R exercise, heavily inspired by the replication material found here: https://dataverse.harvard.edu/dataset.xhtml?persistentId=doi:10.7910/DVN/FMJDCD. If interested, you can also see Greg's walk-through of the R version of this code in his video here: https://gregoryeady.com/SocialMediaDataCourse/readings/Keywords/"
   ]
  },
  {
   "cell_type": "markdown",
   "metadata": {},
   "source": [
    "### Read in required packages "
   ]
  },
  {
   "cell_type": "code",
   "execution_count": 1,
   "metadata": {},
   "outputs": [],
   "source": [
    "import pandas as pd\n",
    "from nltk.stem.snowball import SnowballStemmer\n",
    "import re\n",
    "from tqdm import tqdm\n",
    "from collections import OrderedDict\n",
    "from collections import defaultdict\n",
    "from collections import namedtuple\n",
    "import numpy as np\n",
    "from nltk.stem import PorterStemmer\n",
    "from nltk.tokenize import WhitespaceTokenizer\n",
    "import nltk\n",
    "from sklearn.feature_extraction.text import CountVectorizer\n",
    "import random\n",
    "from math import lgamma\n",
    "from sklearn import linear_model\n",
    "import matplotlib.pyplot as plt\n",
    "import datetime"
   ]
  },
  {
   "cell_type": "markdown",
   "metadata": {},
   "source": [
    "# 1. Load the data\n",
    "\n",
    "Read in data as usual. "
   ]
  },
  {
   "cell_type": "code",
   "execution_count": 2,
   "metadata": {},
   "outputs": [],
   "source": [
    "df = pd.read_csv(\"../dataset/MOC_Tweets.csv\")"
   ]
  },
  {
   "cell_type": "markdown",
   "metadata": {},
   "source": [
    "# 1.1. Preprocessing \n",
    "\n",
    "Due to time restraints, the preprocessing code is given below, ready to be run. Take a look at the code to understand what is being done. \n"
   ]
  },
  {
   "cell_type": "markdown",
   "metadata": {},
   "source": [
    "Subset the data by removing tweets before 2019 (we are only interested in tweets that may reference COVID-19)."
   ]
  },
  {
   "cell_type": "code",
   "execution_count": 3,
   "metadata": {},
   "outputs": [],
   "source": [
    "df = df[df.date  >= 20190101] # Subset to 2019 and later because we'll look at COVID-19 over time\n",
    "df = df.loc[df.tweet_id.drop_duplicates().index] # removing duplicate observations (tweets)"
   ]
  },
  {
   "cell_type": "code",
   "execution_count": 4,
   "metadata": {},
   "outputs": [],
   "source": [
    "df.reset_index(inplace = True, drop = True) "
   ]
  },
  {
   "cell_type": "markdown",
   "metadata": {},
   "source": [
    "Save the original text and lowercase the text column."
   ]
  },
  {
   "cell_type": "code",
   "execution_count": 5,
   "metadata": {},
   "outputs": [],
   "source": [
    "df['text_original'] = df['text']\n",
    "df['text'] = df['text'].str.lower()"
   ]
  },
  {
   "cell_type": "markdown",
   "metadata": {},
   "source": [
    "Do some (but not all) preprocessing by removing tweet elements that we do not care about. \n"
   ]
  },
  {
   "cell_type": "code",
   "execution_count": 6,
   "metadata": {},
   "outputs": [],
   "source": [
    "# Remove mentions (posts that start with a \"@some_user_name \")\n",
    "df['text'] = df['text'].str.replace(\"\\\\B@\\\\w+|^@\\\\w+\", \"\", regex = True)\n",
    "# Change ampersands to \"and\"\n",
    "df['text'] = df['text'].str.replace(\"&amp;\", \"and\")\n",
    "# Remove the \"RT\" and \"via\" (old retweet style)\n",
    "df['text'] = df['text'].str.replace(\"(^RT|^via)((?:\\\\b\\\\W*@\\\\w+)+)\",\"\", regex=True, case=False)\n",
    "# Remove URLs             \n",
    "df['text'] = df['text'].str.replace(\"(https|http)?:\\\\/\\\\/(\\\\w|\\\\.|\\\\/|\\\\?|\\\\=|\\\\&|\\\\%)*\\\\b\", \"\", regex = True)\n",
    "# Keep ASCII only (removes Cyrillic, Japanese characters, etc.)\n",
    "df['text'] = df['text'].str.replace(\"[^ -~]\", \"\", regex = True)\n",
    "# Remove double+ spaces (e.g. \"build   the wall\" to \"build the wall\")\n",
    "df['text'] = df['text'].str.replace(\"\\\\s+\", \" \", regex = True)"
   ]
  },
  {
   "cell_type": "markdown",
   "metadata": {},
   "source": [
    "With our mostly preprocessed tweets, let us begin building our classifier from chosen keywords. "
   ]
  },
  {
   "attachments": {},
   "cell_type": "markdown",
   "metadata": {},
   "source": [
    "# 2. Define inclusion and exclusion keywords\n",
    "\n",
    "You should now define the initial keywords that you want to include and exclude. Keywords to include should reference COVID-19, e.g. \"covid19\" and/or \"coronavirus\". We will use these initial keywords to find more keywords relevant to the topic.\n",
    "\n",
    "1. Define 4 lists: the **first** should contain a seed reference word to be included, the **second** should contain the expanded list of reference words to include (empty to begin with), the **third** should contain a seed reference word to be excluded (can be left empty), and the **fourth** should contain the expanded list of reference words to exclude (empty to begin with). \n",
    "\n",
    "2. Using `.join`, collapse the two inclusion and exclusion lists, respectively, into strings that can be used as regex OR-operations. The result should be in the form \\['dog', 'cat'\\] --> 'dog|cat'\n",
    "\n",
    "3. Use this regex string to create a bool column indicating whether the tweet contains one of your keywords.\n",
    "\n",
    "4. If you have any exlusions, also find the tweets that contain the excluded keywords (the exclusion list can be left empty). \n",
    "\n",
    "5. Define a variable that is either 0 or 1, where 1 shows that the tweet contains one or more of your inclusion keywords _and_ does not contain any exclusion keywords. Create a bool column with this. \n",
    "\n",
    "6. See how many tweets you have labelled as related to COVID-19 so far (how many 0s and how many 1s). \n",
    "\n",
    "7. Sample 10 tweets labelled as COVID-19, and read the text in them (in the text_original column)."
   ]
  },
  {
   "cell_type": "code",
   "execution_count": 9,
   "metadata": {},
   "outputs": [
    {
     "name": "stdout",
     "output_type": "stream",
     "text": [
      "Seed word to be included: Covid-19\n",
      "Expanded list of reference words to include: ['covidvirus', 'covid-19', 'covid', 'corona']\n"
     ]
    }
   ],
   "source": [
    "# Define the seed reference words to be included and excluded\n",
    "included_seed_word = 'Covid-19'\n",
    "excluded_seed_word = 'negative'\n",
    "\n",
    "# Define the expanded list of reference words to be included and excluded\n",
    "included_expanded_words = ['covidvirus', 'covid-19', 'covid', 'corona']\n",
    "#excluded_expanded_words = [']\n",
    "\n",
    "# Collapse the inclusion and exclusion lists into regex OR-operations\n",
    "included_regex = '|'.join([included_seed_word] + included_expanded_words)\n",
    "#excluded_regex = '|'.join([excluded_seed_word] + excluded_expanded_words)\n",
    "\n",
    "\n",
    "# Print the four lists\n",
    "print('Seed word to be included:', included_seed_word)\n",
    "print('Expanded list of reference words to include:', included_expanded_words)\n",
    "#print('Seed word to be excluded:', excluded_seed_word)\n",
    "#print('Expanded list of reference words to exclude:', excluded_expanded_words)\n"
   ]
  },
  {
   "cell_type": "code",
   "execution_count": 10,
   "id": "4fc0eba2",
   "metadata": {},
   "outputs": [
    {
     "name": "stdout",
     "output_type": "stream",
     "text": [
      "We have 3215 tweets about covid\n",
      "We have 576605 tweets not about covid\n"
     ]
    }
   ],
   "source": [
    "# Laver funktion\n",
    "def true_reg(reg, text):\n",
    "    t = re.search(reg, text)\n",
    "    if t != None:\n",
    "        return(True)\n",
    "\n",
    "\n",
    "# Laver regex udtryk (Lige nu dealer jeg ikke med mellemrum)\n",
    "reg = re.compile(included_regex)\n",
    "\n",
    "# forloop udført\n",
    "m_liste = []\n",
    "for x in df[\"text\"]:\n",
    "    if true_reg(reg, x)==True:\n",
    "        m_liste.append(1)\n",
    "    else:\n",
    "        m_liste.append(0)\n",
    "\n",
    "df[\"covid\"] = m_liste\n",
    "\n",
    "# Smartere måde at gøre det på: \n",
    "df[\"covid\"] = [1 if re.search(reg, x) else 0 for x in df[\"text\"]]\n",
    "\n",
    "print(\"We have {} tweets about covid\".format(len(df[df[\"covid\"]==1])))\n",
    "print(\"We have {} tweets not about covid\".format(len(df[df[\"covid\"]==0])))"
   ]
  },
  {
   "cell_type": "code",
   "execution_count": 11,
   "id": "306271f0",
   "metadata": {},
   "outputs": [
    {
     "name": "stdout",
     "output_type": "stream",
     "text": [
      "En medio de la amenaza del coronavirus, animo a todos a permanecer tranquilos, a mantenerse informados con informac… https://t.co/KD6iyPTQ4R\n",
      "Getting a clean spending bill to give @realDonaldTrump and @VP the resources they need to confront the #coronavirus… https://t.co/asR6AZvRZZ\n",
      "Know how to keep yourself, family, and friends safe from #coronavirus.   Visit @CDCgov website ⬇️… https://t.co/rITw1UgcDk\n",
      "The #coronavirus threat has shown us what we already knew: Our health care system MUST change.   The American peopl… https://t.co/BmtgxG4wUU\n",
      "Just one example: After fearing he had coronavirus symptoms, Mr. Azcue of Miami got tested – but what he ended up w… https://t.co/e7FfjNYgo9\n",
      "Here's how the U.S. prepared for #coronavirus before the crisis, how we've responded during the crisis, and the les… https://t.co/sNS0HB6OXU\n",
      "Just today, the House approved emergency funding to address the coronavirus at home and abroad, and officials at al… https://t.co/m7D9k1WZZJ\n",
      "Nothing should get in the way of Americans’ ability to protect themselves from the #Coronavirus.   Anyone experienc… https://t.co/wFTTOHgkzx\n",
      "This is a very good source for information on the #Coronavirus . The @CDCgov just put this page up on it's website.… https://t.co/mYSXTWA37c\n",
      "CDC does not currently recommend the use of facemasks to help prevent novel #coronavirus. Take everyday preventive… https://t.co/bzS18N5j7N\n"
     ]
    }
   ],
   "source": [
    "for x in df[df[\"covid\"]==1].sample(10)[\"text_original\"]:\n",
    "    print(x)"
   ]
  },
  {
   "cell_type": "markdown",
   "metadata": {},
   "source": [
    "# 3. Further preprocessing and vectorizing\n",
    "\n",
    "Next, we need to tokenize the data and preprocess the tokens (as opposed to the preprossesing on the full string as earlier). \n",
    "\n",
    "We will also remove all the keywords that demarcate exclusion and inclusion from the covid-19 theme. This is becasue we want the model to learn to predict the topic using other, new keywords. \n",
    "\n",
    "1. Create a new col named \"text_preprocessed\" - it should be equal the text col, but with the keywords removed (Hint: use `.str.replace()` with `regex = True`). \n",
    "\n",
    "----- \n",
    "\n",
    "To spend less time on lessons you have already been through, code for further preprocessing is provided. This code may take a few minutes to run. The steps are: \n",
    "\n",
    "2. Tokenizing. A whitespace tokenizer is used, since we want to keep words with '-'.\n",
    "\n",
    "3. Removing any tokens that are only numbers (you can remove more types of tokens if you want - up to you).\n",
    "\n",
    "4. Remove any empty strings.\n",
    "\n",
    "5. Stemming.\n",
    "\n",
    "6. Re-joining the stemmed tokens using a whitespace.\n",
    "\n",
    "7. Creating a column with the preprocessed sentences.\n",
    "\n",
    "----- \n",
    "\n",
    "8. Now you have a column  of sentences made out of stemmed and preprocessed tokens. Use a CountVectorizer to make a document term matrix based on this column. Set `min_df = 10` and `max_df = 0.999`, as well as `stop_words = 'english'` and set an appropriate `ngram_range`. \n",
    "\n",
    "NB: Do not try to make this DTM into a dataframe or np array, as you will most likely run out of memory. It is a sparse matrix that you can work with in the same way as an np.array.\n",
    "\n"
   ]
  },
  {
   "cell_type": "code",
   "execution_count": 15,
   "metadata": {},
   "outputs": [
    {
     "name": "stdout",
     "output_type": "stream",
     "text": [
      " . on u.s. aid during virus outbreak: \"support will boost the morale of their chinese c \n",
      "my statement on the house passage of the emergency #virus funding \n",
      "my comments on the ongoing virus outbreak and the federal response during my interview with this af \n",
      "tomorrow at 2:30pm: the subcommittee on aviation and space will hold a hearing on the #virus and the role of \n",
      "congress should've already passed a funding bill to combat virus. period. but democrats are hellbent on sneak \n",
      "thankfully there are no confirmed cases of virus in ohio, but it never hurts to take steps to prevent illness \n",
      "sabemos que muchos de ustedes estn preocupados por el nuevo virus () y se preguntan qu pueden hacer \n",
      "since day one democrats have politicized the #virus. they are adding poison pills to the bill that will hold \n",
      "the topic that remains front and center is the spread of #virus. while there's a long road ahead, i am grateful \n",
      "yesterday, refused to promise that a #virus vaccine would be affordable to all. house democrats pa \n"
     ]
    }
   ],
   "source": [
    "#Create a new text column with both inclusion and exclusion keywords removed\n",
    "\n",
    "df['text_preprocessed'] = df[\"text\"].str.replace(reg,\"\", regex=True)\n",
    "for x in df[df[\"covid\"]==1].sample(10)[\"text_preprocessed\"]:\n",
    "    print(x)"
   ]
  },
  {
   "cell_type": "code",
   "execution_count": 16,
   "metadata": {},
   "outputs": [
    {
     "name": "stderr",
     "output_type": "stream",
     "text": [
      "100%|██████████| 579820/579820 [02:33<00:00, 3789.61it/s]\n"
     ]
    }
   ],
   "source": [
    "tokenizer = WhitespaceTokenizer()\n",
    "ps = PorterStemmer()\n",
    "\n",
    "preprocessed_sents =[]\n",
    "\n",
    "for sent in tqdm(df['text_preprocessed']):\n",
    "    words = tokenizer.tokenize(sent)\n",
    "    words = [re.sub(r'\\d+', '', word) for word in words] #removing tokens that are only digits \n",
    "    words = [x for x in words if x] #removing empty strings\n",
    "    sent_stem = [ps.stem(word) for word in words]\n",
    "    \n",
    "    sent_done = \" \".join(sent_stem)\n",
    "    preprocessed_sents.append(sent_done)\n",
    "\n",
    "df['text_stemmed'] = preprocessed_sents"
   ]
  },
  {
   "cell_type": "code",
   "execution_count": 17,
   "metadata": {},
   "outputs": [],
   "source": [
    "# Create a document term matrix here\n",
    "vectorizer = CountVectorizer(min_df=10, max_df=0.999, stop_words='english', ngram_range=(1,2))\n",
    "\n",
    "# Fit the vectorizer to the 'text' column and transform it to a document term matrix\n",
    "doc_term_matrix = vectorizer.fit_transform(df['text_preprocessed'])\n"
   ]
  },
  {
   "cell_type": "markdown",
   "metadata": {},
   "source": [
    "# 4. Sample training data and make predictions\n",
    "\n",
    "Let us sample some tweets we will use to train our classifier. \n",
    "\n",
    "1) Define two lists of indices: One list containing the indices of the tweets in the reference set (those labelled as belonging to the covid-19 topic), and another list containing N sample of tweets not from the reference set (N should be either 2x the amount of tweets in the reference set or 50000, whichever is smaller).\n",
    "\n",
    "2) You now have 2 lists of indices – use these to subset the Document Term Matrix (where each row represents a tweet, and each column a token) and the reference set column in the dataframe (the labels). Define a train DTM and  a train labels object. \n",
    "\n",
    "3) Fit a cross validated lasso regression, using the DTM subset as input (X) and the reference subset as labels (y). This means that we are trying to predict whether a tweet is in the reference set using the term frequencies. (Hint:  use sklearn's `linear_model.LasssoCV()`). This may take some time (approx. 5 min, depending on the size of your train data).\n",
    "\n",
    "4) Use the fitted model to make predictions on the full DTM, and create a column in the dataframe called `predicted_raw` based on this. (Remember that the rows in the DTM correspond to the rows in the dataframe).\n",
    "\n",
    "5) The prediction outputs propabilities and not classes, so check the standard deviation of the predicion_raw column - this will check if we actually have some variance in the prediction. This is just a sanity check.\n",
    "\n",
    "6) Set a threshold of 0.25, and assign 1 or 0 to a new column called `predicted`, depending on whether the probability in `predicted_raw` is >= the threshold. (Note: Keep the threshold low if you want more tweets to get into the target set).\n",
    "\n",
    "7) Create a column called `set_var`. This variable should be == \"Reference\" if the observation is in the reference set (our original covid-19 labels), \"Target\" if it is _predicted_ to be a covid-19 related tweet (1) and \"Not target\" if it is _predicted_ not to be (0).\n",
    "\n",
    "8) Create a crosstable of the prediciton and set_var, to see how you model does (hint: use use `pd.crosstab()`). Examine the crosstab - what do the different entries mean? "
   ]
  },
  {
   "cell_type": "code",
   "execution_count": 23,
   "id": "18bc4fc8",
   "metadata": {},
   "outputs": [
    {
     "data": {
      "text/html": [
       "<div>\n",
       "<style scoped>\n",
       "    .dataframe tbody tr th:only-of-type {\n",
       "        vertical-align: middle;\n",
       "    }\n",
       "\n",
       "    .dataframe tbody tr th {\n",
       "        vertical-align: top;\n",
       "    }\n",
       "\n",
       "    .dataframe thead th {\n",
       "        text-align: right;\n",
       "    }\n",
       "</style>\n",
       "<table border=\"1\" class=\"dataframe\">\n",
       "  <thead>\n",
       "    <tr style=\"text-align: right;\">\n",
       "      <th></th>\n",
       "      <th>Unnamed: 0</th>\n",
       "      <th>user_id</th>\n",
       "      <th>num_tweets</th>\n",
       "      <th>raw_url</th>\n",
       "      <th>url</th>\n",
       "      <th>url_tweet_part</th>\n",
       "      <th>tweet_type</th>\n",
       "      <th>date</th>\n",
       "      <th>tweet_id</th>\n",
       "      <th>retries</th>\n",
       "      <th>text_user_id</th>\n",
       "      <th>text</th>\n",
       "      <th>geography</th>\n",
       "      <th>affiliation</th>\n",
       "      <th>nominate_name</th>\n",
       "      <th>text_original</th>\n",
       "      <th>covid</th>\n",
       "      <th>text_preprocessed</th>\n",
       "      <th>text_stemmed</th>\n",
       "    </tr>\n",
       "  </thead>\n",
       "  <tbody>\n",
       "    <tr>\n",
       "      <th>0</th>\n",
       "      <td>1</td>\n",
       "      <td>5558312.0</td>\n",
       "      <td>430143</td>\n",
       "      <td>none</td>\n",
       "      <td>none</td>\n",
       "      <td>none</td>\n",
       "      <td>authored</td>\n",
       "      <td>20190319</td>\n",
       "      <td>1.108000e+18</td>\n",
       "      <td>999999</td>\n",
       "      <td>5558312.0</td>\n",
       "      <td>federal government employees are dedicated pub...</td>\n",
       "      <td>AR</td>\n",
       "      <td>Republican</td>\n",
       "      <td>BOOZMAN, John</td>\n",
       "      <td>Federal government employees are dedicated pub...</td>\n",
       "      <td>0</td>\n",
       "      <td>federal government employees are dedicated pub...</td>\n",
       "      <td>feder govern employe are dedic public servant ...</td>\n",
       "    </tr>\n",
       "    <tr>\n",
       "      <th>1</th>\n",
       "      <td>8</td>\n",
       "      <td>5558312.0</td>\n",
       "      <td>12531</td>\n",
       "      <td>https://www.vlm.cem.va.gov/?utm_source=Veteran...</td>\n",
       "      <td>https://www.vlm.cem.va.gov/?utm_source=Veteran...</td>\n",
       "      <td>author</td>\n",
       "      <td>authored</td>\n",
       "      <td>20190913</td>\n",
       "      <td>1.172596e+18</td>\n",
       "      <td>0</td>\n",
       "      <td>5558312.0</td>\n",
       "      <td>. recently rolled out a new digital memorial p...</td>\n",
       "      <td>AR</td>\n",
       "      <td>Republican</td>\n",
       "      <td>BOOZMAN, John</td>\n",
       "      <td>.@DeptVetAffairs recently rolled out a new dig...</td>\n",
       "      <td>0</td>\n",
       "      <td>. recently rolled out a new digital memorial p...</td>\n",
       "      <td>. recent roll out a new digit memori platform ...</td>\n",
       "    </tr>\n",
       "    <tr>\n",
       "      <th>2</th>\n",
       "      <td>11</td>\n",
       "      <td>5558312.0</td>\n",
       "      <td>12531</td>\n",
       "      <td>none</td>\n",
       "      <td>none</td>\n",
       "      <td>none</td>\n",
       "      <td>authored</td>\n",
       "      <td>20190912</td>\n",
       "      <td>1.172256e+18</td>\n",
       "      <td>999999</td>\n",
       "      <td>5558312.0</td>\n",
       "      <td>i know the importance of empowering women in t...</td>\n",
       "      <td>AR</td>\n",
       "      <td>Republican</td>\n",
       "      <td>BOOZMAN, John</td>\n",
       "      <td>I know the importance of empowering women in t...</td>\n",
       "      <td>0</td>\n",
       "      <td>i know the importance of empowering women in t...</td>\n",
       "      <td>i know the import of empow women in the global...</td>\n",
       "    </tr>\n",
       "    <tr>\n",
       "      <th>3</th>\n",
       "      <td>18</td>\n",
       "      <td>5558312.0</td>\n",
       "      <td>430143</td>\n",
       "      <td>https://www.kffb.com/us-senator-john-boozman-m...</td>\n",
       "      <td>https://www.kffb.com/us-senator-john-boozman-m...</td>\n",
       "      <td>author</td>\n",
       "      <td>authored</td>\n",
       "      <td>20190322</td>\n",
       "      <td>1.109101e+18</td>\n",
       "      <td>0</td>\n",
       "      <td>5558312.0</td>\n",
       "      <td>it was great to spend some time with leaders i...</td>\n",
       "      <td>AR</td>\n",
       "      <td>Republican</td>\n",
       "      <td>BOOZMAN, John</td>\n",
       "      <td>It was great to spend some time with leaders i...</td>\n",
       "      <td>0</td>\n",
       "      <td>it was great to spend some time with leaders i...</td>\n",
       "      <td>it wa great to spend some time with leader in ...</td>\n",
       "    </tr>\n",
       "    <tr>\n",
       "      <th>4</th>\n",
       "      <td>19</td>\n",
       "      <td>5558312.0</td>\n",
       "      <td>12531</td>\n",
       "      <td>none</td>\n",
       "      <td>none</td>\n",
       "      <td>none</td>\n",
       "      <td>authored</td>\n",
       "      <td>20190918</td>\n",
       "      <td>1.174356e+18</td>\n",
       "      <td>999999</td>\n",
       "      <td>5558312.0</td>\n",
       "      <td>for 72 years, has been blazing the trail of do...</td>\n",
       "      <td>AR</td>\n",
       "      <td>Republican</td>\n",
       "      <td>BOOZMAN, John</td>\n",
       "      <td>For 72 years, @usairforce has been blazing the...</td>\n",
       "      <td>0</td>\n",
       "      <td>for 72 years, has been blazing the trail of do...</td>\n",
       "      <td>for years, ha been blaze the trail of domin in...</td>\n",
       "    </tr>\n",
       "  </tbody>\n",
       "</table>\n",
       "</div>"
      ],
      "text/plain": [
       "   Unnamed: 0    user_id  num_tweets  \\\n",
       "0           1  5558312.0      430143   \n",
       "1           8  5558312.0       12531   \n",
       "2          11  5558312.0       12531   \n",
       "3          18  5558312.0      430143   \n",
       "4          19  5558312.0       12531   \n",
       "\n",
       "                                             raw_url  \\\n",
       "0                                               none   \n",
       "1  https://www.vlm.cem.va.gov/?utm_source=Veteran...   \n",
       "2                                               none   \n",
       "3  https://www.kffb.com/us-senator-john-boozman-m...   \n",
       "4                                               none   \n",
       "\n",
       "                                                 url url_tweet_part  \\\n",
       "0                                               none           none   \n",
       "1  https://www.vlm.cem.va.gov/?utm_source=Veteran...         author   \n",
       "2                                               none           none   \n",
       "3  https://www.kffb.com/us-senator-john-boozman-m...         author   \n",
       "4                                               none           none   \n",
       "\n",
       "  tweet_type      date      tweet_id  retries  text_user_id  \\\n",
       "0   authored  20190319  1.108000e+18   999999     5558312.0   \n",
       "1   authored  20190913  1.172596e+18        0     5558312.0   \n",
       "2   authored  20190912  1.172256e+18   999999     5558312.0   \n",
       "3   authored  20190322  1.109101e+18        0     5558312.0   \n",
       "4   authored  20190918  1.174356e+18   999999     5558312.0   \n",
       "\n",
       "                                                text geography affiliation  \\\n",
       "0  federal government employees are dedicated pub...        AR  Republican   \n",
       "1  . recently rolled out a new digital memorial p...        AR  Republican   \n",
       "2  i know the importance of empowering women in t...        AR  Republican   \n",
       "3  it was great to spend some time with leaders i...        AR  Republican   \n",
       "4  for 72 years, has been blazing the trail of do...        AR  Republican   \n",
       "\n",
       "   nominate_name                                      text_original  covid  \\\n",
       "0  BOOZMAN, John  Federal government employees are dedicated pub...      0   \n",
       "1  BOOZMAN, John  .@DeptVetAffairs recently rolled out a new dig...      0   \n",
       "2  BOOZMAN, John  I know the importance of empowering women in t...      0   \n",
       "3  BOOZMAN, John  It was great to spend some time with leaders i...      0   \n",
       "4  BOOZMAN, John  For 72 years, @usairforce has been blazing the...      0   \n",
       "\n",
       "                                   text_preprocessed  \\\n",
       "0  federal government employees are dedicated pub...   \n",
       "1  . recently rolled out a new digital memorial p...   \n",
       "2  i know the importance of empowering women in t...   \n",
       "3  it was great to spend some time with leaders i...   \n",
       "4  for 72 years, has been blazing the trail of do...   \n",
       "\n",
       "                                        text_stemmed  \n",
       "0  feder govern employe are dedic public servant ...  \n",
       "1  . recent roll out a new digit memori platform ...  \n",
       "2  i know the import of empow women in the global...  \n",
       "3  it wa great to spend some time with leader in ...  \n",
       "4  for years, ha been blaze the trail of domin in...  "
      ]
     },
     "execution_count": 23,
     "metadata": {},
     "output_type": "execute_result"
    }
   ],
   "source": [
    "df.head()"
   ]
  },
  {
   "cell_type": "code",
   "execution_count": 24,
   "id": "bac7809e",
   "metadata": {},
   "outputs": [],
   "source": [
    "# Assuming that you have a dataframe df with a column 'label' indicating whether each tweet belongs to the covid-19 topic\n",
    "# Get the indices of the tweets in the reference set (i.e., those labelled as belonging to the covid-19 topic)\n",
    "ref_indices = np.where(df['covid'] == 1)[0].tolist()\n",
    "\n",
    "# Get N random indices of tweets not in the reference set\n",
    "nonref_indices = np.where(df['covid'] != 1)[0]\n",
    "# Set N to be either 2 times the number of tweets in the reference set or 50000, whichever is smaller\n",
    "N = min(2 * len(nonref_indices), 50000)\n",
    "\n",
    "nonref_indices = np.random.choice(nonref_indices, size=N, replace=False).tolist()"
   ]
  },
  {
   "cell_type": "markdown",
   "metadata": {},
   "source": [
    "# 5. Calculate the log likelihood as in the paper\n",
    "\n",
    "1) Create 3 sets of indices based on the `set_var` colum: one for \"Target\", one for \"Not target\" and one for \"Reference\". \n",
    "\n",
    "2) Create 3 objects for the target, not_target and reference sets, based on the DTM. These should be: for each token, how often is the given token in the set, how many documents in the set contains the given token, and the proportion of documents in the set containing the given token. (Hint: see sample code for the target set. If you want to convert to a list and not a matrix object, you can use the `.tolist()[0]`)\n",
    "\n",
    "3) Create a new dataframe, where each row is a token from the DTM (you can use `vectorizer.get_feature_names()`), with 9 cols for each of the 9 objects you just created. \n",
    "\n",
    "4) Subset the dataset by removing any observations where the terms do not appear in either the target or not_target set, thus keeping only tokens that were in the original search set (step (a) on page 979).\n",
    "\n",
    "5) Keywords go in the target list if their proportion is higher among those documents estimated to be in the reference set than not; e.g. if for the word \"pandemic\", 15% of documents predicted as target contain the word \"pandemic\" versus only 2% among those in the not_target set (step (b) on page 979). Therefore: create a new column that should be True if the token has a higher or equal proportion in the target set than in the not_target set. \n",
    "\n",
    "6) Examine the `llik` function provide and look in the paper - what does it do? \n",
    "\n",
    "7) Calculate the amount of documents in the target and the not_target set.\n",
    "\n",
    "8) Use the provided function to calculate the log likelihood for each token. Assign this to a new column in the dataframe created in step 3. \n"
   ]
  },
  {
   "cell_type": "code",
   "execution_count": null,
   "metadata": {},
   "outputs": [],
   "source": [
    "# Create 3 lists of indices\n",
    "\n",
    "target_ids = \n",
    "not_target_ids = \n",
    "ref_ids = \n"
   ]
  },
  {
   "cell_type": "code",
   "execution_count": null,
   "metadata": {},
   "outputs": [],
   "source": [
    "# Code showing how 5.2 is calculated for the target group \n",
    "\n",
    "target_freq = np.sum(DTM[target_ids,:], axis = 0) # how often is a given keyword in the target set \n",
    "target_num_docs = np.sum(DTM[target_ids,:] > 0, axis = 0) # how many documents in the target set contain a given keyword\n",
    "target_num_docs_prop =  target_num_docs / sum(target_ids) # the proportion\n",
    "\n",
    "# ... \n"
   ]
  },
  {
   "cell_type": "code",
   "execution_count": 91,
   "metadata": {},
   "outputs": [],
   "source": [
    "# Equation from King et al. (2017) p. 979 (using logs for stability) to calculate the likelihood\n",
    "\n",
    "def llik(target_num_docs, nottarget_num_docs, target_num_docs_total, nottarget_num_docs_total):\n",
    "    \n",
    "    '''No docstring - you neew to see what it does :) '''\n",
    "    \n",
    "    x1 = ((lgamma(target_num_docs + 1) + lgamma(nottarget_num_docs + 1)) -\n",
    "           lgamma(target_num_docs + nottarget_num_docs + 1 + 1))\n",
    "    \n",
    "    x2 = ((lgamma(target_num_docs_total - target_num_docs + 1) +\n",
    "           lgamma(nottarget_num_docs_total - nottarget_num_docs + 1)) -\n",
    "           lgamma(target_num_docs_total - target_num_docs +\n",
    "           nottarget_num_docs_total - nottarget_num_docs + 1 + 1))\n",
    "    \n",
    "    llik = x1 + x2\n",
    "    \n",
    "    return llik\n"
   ]
  },
  {
   "cell_type": "markdown",
   "metadata": {},
   "source": [
    "# 6. Examine new keywords\n",
    "\n",
    "1) Show the top 25 keywords based on highest log likelihood, where the share of documents in the target set is higher than in the not_target set (see task 5.5). These are the tokens that are most likely to differentiate between the target and not_target sets (meaning that they help the model predict covid-19 related tweets).\n",
    "\n",
    "2) Do the same with the not_target - what are these terms representative of? \n",
    "\n",
    "3) Are there any of these tokens that you want to include in the keywords? Choose 1-3 keywords that you want to include or exclude. \n",
    "\n",
    "4) For the 1-3 keywords you have found, find tweets that contain the given keyword in the original tweet text in the original dataframe. Read some tweets where the keyword is used in context - do you still want to include or exclude the keyword? \n",
    "\n",
    "5) Optional: add the new keywords to the original list at the beginning of this exercise in 2.1, and rerun the exercises until here, now including the new keywords. This is how the computer-assisted keyword discovery is used iteratively. \n"
   ]
  },
  {
   "cell_type": "code",
   "execution_count": null,
   "metadata": {},
   "outputs": [],
   "source": []
  },
  {
   "cell_type": "markdown",
   "metadata": {},
   "source": [
    "# 7. Optional: Use your new classifier for downstream tasks\n",
    "\n",
    "1) Assign a `final_classification` boolean column in the original dataframe, which should be 1 if the tweet contains any of the keywords in the new, complete list and if it does not contain any of the exclusion keywords. \n",
    "\n",
    "2) Examine the value counts of the political affiliation variable. Assign \"Democrat\" to the tweets labelled with \"Independent\" (see the people behind the tweets for reason).\n",
    "\n",
    "3) Plot the share of tweets labelled as covid-19 relevant by your classifier (y), grouped on days (x) for each party - meaning two lines of covid-19 share across time. \n",
    "\n",
    "**Hints:** <br>\n",
    "The pandas `groupby` functionality may be of help to you. <br>\n",
    "You can also also turn the date ints into so-called datetime objects using this:\n",
    "\n",
    "`dates =[datetime.datetime(year=int(x[i][0:4]), month=int(x[i][4:6]), day=int(x[i][6:8])) for i in range(len(x))]`\n",
    "\n",
    "where x is a list of the unique dates as int. \n"
   ]
  },
  {
   "cell_type": "code",
   "execution_count": null,
   "metadata": {},
   "outputs": [],
   "source": []
  }
 ],
 "metadata": {
  "kernelspec": {
   "display_name": "Python 3",
   "language": "python",
   "name": "python3"
  },
  "language_info": {
   "codemirror_mode": {
    "name": "ipython",
    "version": 3
   },
   "file_extension": ".py",
   "mimetype": "text/x-python",
   "name": "python",
   "nbconvert_exporter": "python",
   "pygments_lexer": "ipython3",
   "version": "3.11.2"
  }
 },
 "nbformat": 4,
 "nbformat_minor": 5
}
